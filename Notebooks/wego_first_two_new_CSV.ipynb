{
 "cells": [
  {
   "cell_type": "code",
   "execution_count": 1,
   "metadata": {},
   "outputs": [],
   "source": [
    "import pandas as pd\n",
    "import matplotlib.pyplot as plt\n",
    "import statsmodels.api as sm\n",
    "import statsmodels.formula.api as smf\n",
    "import numpy as np\n",
    "from datetime import datetime, timedelta"
   ]
  },
  {
   "cell_type": "code",
   "execution_count": 2,
   "metadata": {},
   "outputs": [
    {
     "data": {
      "text/html": [
       "<div>\n",
       "<style scoped>\n",
       "    .dataframe tbody tr th:only-of-type {\n",
       "        vertical-align: middle;\n",
       "    }\n",
       "\n",
       "    .dataframe tbody tr th {\n",
       "        vertical-align: top;\n",
       "    }\n",
       "\n",
       "    .dataframe thead th {\n",
       "        text-align: right;\n",
       "    }\n",
       "</style>\n",
       "<table border=\"1\" class=\"dataframe\">\n",
       "  <thead>\n",
       "    <tr style=\"text-align: right;\">\n",
       "      <th></th>\n",
       "      <th>CALENDAR_ID</th>\n",
       "      <th>SERVICE_ABBR</th>\n",
       "      <th>ADHERENCE_ID</th>\n",
       "      <th>DATE</th>\n",
       "      <th>ROUTE_ABBR</th>\n",
       "      <th>BLOCK_ABBR</th>\n",
       "      <th>OPERATOR</th>\n",
       "      <th>TRIP_ID</th>\n",
       "      <th>OVERLOAD_ID</th>\n",
       "      <th>ROUTE_DIRECTION_NAME</th>\n",
       "      <th>...</th>\n",
       "      <th>ADJUSTED_LATE_COUNT</th>\n",
       "      <th>ADJUSTED_ONTIME_COUNT</th>\n",
       "      <th>STOP_CANCELLED</th>\n",
       "      <th>PREV_SCHED_STOP_CANCELLED</th>\n",
       "      <th>IS_RELIEF</th>\n",
       "      <th>BLOCK_STOP_ORDER</th>\n",
       "      <th>DWELL_IN_MINS</th>\n",
       "      <th>CORRECTED_TRIP_ID</th>\n",
       "      <th>ROUTE_NUMBER</th>\n",
       "      <th>ARRIVAL_STATUS</th>\n",
       "    </tr>\n",
       "  </thead>\n",
       "  <tbody>\n",
       "    <tr>\n",
       "      <th>0</th>\n",
       "      <td>120230801</td>\n",
       "      <td>1</td>\n",
       "      <td>99457890</td>\n",
       "      <td>2023-08-01</td>\n",
       "      <td>BORDEAUX</td>\n",
       "      <td>2200</td>\n",
       "      <td>1040</td>\n",
       "      <td>345104</td>\n",
       "      <td>0</td>\n",
       "      <td>TO DOWNTOWN</td>\n",
       "      <td>...</td>\n",
       "      <td>0</td>\n",
       "      <td>1</td>\n",
       "      <td>0</td>\n",
       "      <td>0.0</td>\n",
       "      <td>0</td>\n",
       "      <td>2</td>\n",
       "      <td>6.5</td>\n",
       "      <td>2023-08-01 - 345104</td>\n",
       "      <td>22</td>\n",
       "      <td>ON TIME</td>\n",
       "    </tr>\n",
       "  </tbody>\n",
       "</table>\n",
       "<p>1 rows × 33 columns</p>\n",
       "</div>"
      ],
      "text/plain": [
       "   CALENDAR_ID  SERVICE_ABBR  ADHERENCE_ID        DATE ROUTE_ABBR  BLOCK_ABBR  \\\n",
       "0    120230801             1      99457890  2023-08-01   BORDEAUX        2200   \n",
       "\n",
       "   OPERATOR  TRIP_ID  OVERLOAD_ID ROUTE_DIRECTION_NAME  ...  \\\n",
       "0      1040   345104            0          TO DOWNTOWN  ...   \n",
       "\n",
       "  ADJUSTED_LATE_COUNT  ADJUSTED_ONTIME_COUNT  STOP_CANCELLED  \\\n",
       "0                   0                      1               0   \n",
       "\n",
       "   PREV_SCHED_STOP_CANCELLED  IS_RELIEF BLOCK_STOP_ORDER DWELL_IN_MINS  \\\n",
       "0                        0.0          0                2           6.5   \n",
       "\n",
       "     CORRECTED_TRIP_ID  ROUTE_NUMBER  ARRIVAL_STATUS  \n",
       "0  2023-08-01 - 345104            22         ON TIME  \n",
       "\n",
       "[1 rows x 33 columns]"
      ]
     },
     "execution_count": 2,
     "metadata": {},
     "output_type": "execute_result"
    }
   ],
   "source": [
    "wego = pd.read_csv('../data/headway_data_with_datetimes.csv')\n",
    "wego.head(1)"
   ]
  },
  {
   "cell_type": "code",
   "execution_count": 3,
   "metadata": {},
   "outputs": [],
   "source": [
    "wego['CORRECTED_TRIP_ID'] = wego['CORRECTED_TRIP_ID'].astype(str) + '-' + wego['OVERLOAD_ID'].astype(str)"
   ]
  },
  {
   "cell_type": "markdown",
   "metadata": {},
   "source": [
    "#### Counting and removing na values"
   ]
  },
  {
   "cell_type": "code",
   "execution_count": 4,
   "metadata": {},
   "outputs": [],
   "source": [
    "#wego['ACTUAL_ARRIVAL_TIME'].isna().sum()"
   ]
  },
  {
   "cell_type": "code",
   "execution_count": 5,
   "metadata": {},
   "outputs": [],
   "source": [
    "#wego['ADHERENCE'].isna().sum()"
   ]
  },
  {
   "cell_type": "code",
   "execution_count": 6,
   "metadata": {},
   "outputs": [],
   "source": [
    "#wego_drop = wego.dropna(subset=['ADHERENCE'])"
   ]
  },
  {
   "cell_type": "code",
   "execution_count": 7,
   "metadata": {},
   "outputs": [],
   "source": [
    "#wego_drop = wego.dropna(subset=['ACTUAL_ARRIVAL_TIME'])"
   ]
  },
  {
   "cell_type": "code",
   "execution_count": 8,
   "metadata": {},
   "outputs": [],
   "source": [
    "#wego_drop['ADHERENCE'].isna().sum()"
   ]
  },
  {
   "cell_type": "markdown",
   "metadata": {},
   "source": [
    "#### Convert time fields to DATETIME"
   ]
  },
  {
   "cell_type": "code",
   "execution_count": 9,
   "metadata": {},
   "outputs": [],
   "source": [
    "wego['SCHEDULED_TIME']=pd.to_datetime(wego['SCHEDULED_TIME'])\n",
    "wego['ACTUAL_ARRIVAL_TIME']=pd.to_datetime(wego['ACTUAL_ARRIVAL_TIME'])\n",
    "wego['ACTUAL_DEPARTURE_TIME']=pd.to_datetime(wego['ACTUAL_DEPARTURE_TIME'])"
   ]
  },
  {
   "cell_type": "code",
   "execution_count": 10,
   "metadata": {},
   "outputs": [],
   "source": [
    "wego['LAYOVER'] = wego['ACTUAL_DEPARTURE_TIME'] - wego['ACTUAL_ARRIVAL_TIME']"
   ]
  },
  {
   "cell_type": "code",
   "execution_count": 11,
   "metadata": {},
   "outputs": [],
   "source": [
    "wego['LAYOVER'] = wego['LAYOVER'].dt.total_seconds()/60.0"
   ]
  },
  {
   "cell_type": "code",
   "execution_count": 12,
   "metadata": {},
   "outputs": [],
   "source": [
    "wego = wego.dropna(subset=['LAYOVER'])"
   ]
  },
  {
   "cell_type": "code",
   "execution_count": 13,
   "metadata": {},
   "outputs": [],
   "source": [
    "wego['LAYOVER'] = wego['LAYOVER'].astype(float)"
   ]
  },
  {
   "cell_type": "code",
   "execution_count": 14,
   "metadata": {},
   "outputs": [
    {
     "data": {
      "text/plain": [
       "CALENDAR_ID                           int64\n",
       "SERVICE_ABBR                          int64\n",
       "ADHERENCE_ID                          int64\n",
       "DATE                                 object\n",
       "ROUTE_ABBR                           object\n",
       "BLOCK_ABBR                            int64\n",
       "OPERATOR                              int64\n",
       "TRIP_ID                               int64\n",
       "OVERLOAD_ID                           int64\n",
       "ROUTE_DIRECTION_NAME                 object\n",
       "TIME_POINT_ABBR                      object\n",
       "ROUTE_STOP_SEQUENCE                 float64\n",
       "TRIP_EDGE                             int64\n",
       "LATITUDE                            float64\n",
       "LONGITUDE                           float64\n",
       "SCHEDULED_TIME               datetime64[ns]\n",
       "ACTUAL_ARRIVAL_TIME          datetime64[ns]\n",
       "ACTUAL_DEPARTURE_TIME        datetime64[ns]\n",
       "ADHERENCE                           float64\n",
       "SCHEDULED_HDWY                      float64\n",
       "ACTUAL_HDWY                         float64\n",
       "HDWY_DEV                            float64\n",
       "ADJUSTED_EARLY_COUNT                  int64\n",
       "ADJUSTED_LATE_COUNT                   int64\n",
       "ADJUSTED_ONTIME_COUNT                 int64\n",
       "STOP_CANCELLED                        int64\n",
       "PREV_SCHED_STOP_CANCELLED           float64\n",
       "IS_RELIEF                             int64\n",
       "BLOCK_STOP_ORDER                      int64\n",
       "DWELL_IN_MINS                       float64\n",
       "CORRECTED_TRIP_ID                    object\n",
       "ROUTE_NUMBER                          int64\n",
       "ARRIVAL_STATUS                       object\n",
       "LAYOVER                             float64\n",
       "dtype: object"
      ]
     },
     "execution_count": 14,
     "metadata": {},
     "output_type": "execute_result"
    }
   ],
   "source": [
    "wego.dtypes"
   ]
  },
  {
   "cell_type": "code",
   "execution_count": 15,
   "metadata": {},
   "outputs": [
    {
     "data": {
      "text/html": [
       "<div>\n",
       "<style scoped>\n",
       "    .dataframe tbody tr th:only-of-type {\n",
       "        vertical-align: middle;\n",
       "    }\n",
       "\n",
       "    .dataframe tbody tr th {\n",
       "        vertical-align: top;\n",
       "    }\n",
       "\n",
       "    .dataframe thead th {\n",
       "        text-align: right;\n",
       "    }\n",
       "</style>\n",
       "<table border=\"1\" class=\"dataframe\">\n",
       "  <thead>\n",
       "    <tr style=\"text-align: right;\">\n",
       "      <th></th>\n",
       "      <th>ACTUAL_ARRIVAL_TIME</th>\n",
       "      <th>ACTUAL_DEPARTURE_TIME</th>\n",
       "      <th>LAYOVER</th>\n",
       "    </tr>\n",
       "  </thead>\n",
       "  <tbody>\n",
       "    <tr>\n",
       "      <th>0</th>\n",
       "      <td>2023-08-01 04:37:38</td>\n",
       "      <td>2023-08-01 04:44:08</td>\n",
       "      <td>6.500000</td>\n",
       "    </tr>\n",
       "    <tr>\n",
       "      <th>1</th>\n",
       "      <td>2023-08-01 04:48:27</td>\n",
       "      <td>2023-08-01 04:48:27</td>\n",
       "      <td>0.000000</td>\n",
       "    </tr>\n",
       "    <tr>\n",
       "      <th>2</th>\n",
       "      <td>2023-08-01 04:54:56</td>\n",
       "      <td>2023-08-01 04:54:56</td>\n",
       "      <td>0.000000</td>\n",
       "    </tr>\n",
       "    <tr>\n",
       "      <th>3</th>\n",
       "      <td>2023-08-01 05:03:43</td>\n",
       "      <td>2023-08-01 05:03:43</td>\n",
       "      <td>0.000000</td>\n",
       "    </tr>\n",
       "    <tr>\n",
       "      <th>4</th>\n",
       "      <td>2023-08-01 05:03:43</td>\n",
       "      <td>2023-08-01 05:16:35</td>\n",
       "      <td>12.866667</td>\n",
       "    </tr>\n",
       "    <tr>\n",
       "      <th>...</th>\n",
       "      <td>...</td>\n",
       "      <td>...</td>\n",
       "      <td>...</td>\n",
       "    </tr>\n",
       "    <tr>\n",
       "      <th>350323</th>\n",
       "      <td>2023-09-30 22:31:26</td>\n",
       "      <td>2023-09-30 22:31:26</td>\n",
       "      <td>0.000000</td>\n",
       "    </tr>\n",
       "    <tr>\n",
       "      <th>350324</th>\n",
       "      <td>2023-09-30 22:49:18</td>\n",
       "      <td>2023-09-30 22:49:18</td>\n",
       "      <td>0.000000</td>\n",
       "    </tr>\n",
       "    <tr>\n",
       "      <th>350325</th>\n",
       "      <td>2023-09-30 22:49:19</td>\n",
       "      <td>2023-09-30 22:49:19</td>\n",
       "      <td>0.000000</td>\n",
       "    </tr>\n",
       "    <tr>\n",
       "      <th>350326</th>\n",
       "      <td>2023-09-30 23:21:05</td>\n",
       "      <td>2023-09-30 23:21:05</td>\n",
       "      <td>0.000000</td>\n",
       "    </tr>\n",
       "    <tr>\n",
       "      <th>350327</th>\n",
       "      <td>2023-09-30 23:31:27</td>\n",
       "      <td>2023-09-30 23:34:40</td>\n",
       "      <td>3.216667</td>\n",
       "    </tr>\n",
       "  </tbody>\n",
       "</table>\n",
       "<p>338857 rows × 3 columns</p>\n",
       "</div>"
      ],
      "text/plain": [
       "       ACTUAL_ARRIVAL_TIME ACTUAL_DEPARTURE_TIME    LAYOVER\n",
       "0      2023-08-01 04:37:38   2023-08-01 04:44:08   6.500000\n",
       "1      2023-08-01 04:48:27   2023-08-01 04:48:27   0.000000\n",
       "2      2023-08-01 04:54:56   2023-08-01 04:54:56   0.000000\n",
       "3      2023-08-01 05:03:43   2023-08-01 05:03:43   0.000000\n",
       "4      2023-08-01 05:03:43   2023-08-01 05:16:35  12.866667\n",
       "...                    ...                   ...        ...\n",
       "350323 2023-09-30 22:31:26   2023-09-30 22:31:26   0.000000\n",
       "350324 2023-09-30 22:49:18   2023-09-30 22:49:18   0.000000\n",
       "350325 2023-09-30 22:49:19   2023-09-30 22:49:19   0.000000\n",
       "350326 2023-09-30 23:21:05   2023-09-30 23:21:05   0.000000\n",
       "350327 2023-09-30 23:31:27   2023-09-30 23:34:40   3.216667\n",
       "\n",
       "[338857 rows x 3 columns]"
      ]
     },
     "execution_count": 15,
     "metadata": {},
     "output_type": "execute_result"
    }
   ],
   "source": [
    "wego[['ACTUAL_ARRIVAL_TIME','ACTUAL_DEPARTURE_TIME','LAYOVER']]"
   ]
  },
  {
   "cell_type": "code",
   "execution_count": 16,
   "metadata": {},
   "outputs": [
    {
     "data": {
      "text/html": [
       "<div>\n",
       "<style scoped>\n",
       "    .dataframe tbody tr th:only-of-type {\n",
       "        vertical-align: middle;\n",
       "    }\n",
       "\n",
       "    .dataframe tbody tr th {\n",
       "        vertical-align: top;\n",
       "    }\n",
       "\n",
       "    .dataframe thead th {\n",
       "        text-align: right;\n",
       "    }\n",
       "</style>\n",
       "<table border=\"1\" class=\"dataframe\">\n",
       "  <thead>\n",
       "    <tr style=\"text-align: right;\">\n",
       "      <th></th>\n",
       "      <th>DATE</th>\n",
       "      <th>OPERATOR</th>\n",
       "      <th>TRIP_ID</th>\n",
       "      <th>CORRECTED_TRIP_ID</th>\n",
       "      <th>TRIP_EDGE</th>\n",
       "      <th>ACTUAL_ARRIVAL_TIME</th>\n",
       "      <th>ACTUAL_DEPARTURE_TIME</th>\n",
       "      <th>LAYOVER</th>\n",
       "      <th>ADHERENCE</th>\n",
       "      <th>DWELL_IN_MINS</th>\n",
       "    </tr>\n",
       "  </thead>\n",
       "  <tbody>\n",
       "    <tr>\n",
       "      <th>0</th>\n",
       "      <td>2023-08-01</td>\n",
       "      <td>1040</td>\n",
       "      <td>345104</td>\n",
       "      <td>2023-08-01 - 345104-0</td>\n",
       "      <td>1</td>\n",
       "      <td>2023-08-01 04:37:38</td>\n",
       "      <td>2023-08-01 04:44:08</td>\n",
       "      <td>6.500000</td>\n",
       "      <td>-2.133333</td>\n",
       "      <td>6.500000</td>\n",
       "    </tr>\n",
       "    <tr>\n",
       "      <th>4</th>\n",
       "      <td>2023-08-01</td>\n",
       "      <td>1040</td>\n",
       "      <td>345105</td>\n",
       "      <td>2023-08-01 - 345105-0</td>\n",
       "      <td>1</td>\n",
       "      <td>2023-08-01 05:03:43</td>\n",
       "      <td>2023-08-01 05:16:35</td>\n",
       "      <td>12.866667</td>\n",
       "      <td>-1.583333</td>\n",
       "      <td>12.866666</td>\n",
       "    </tr>\n",
       "    <tr>\n",
       "      <th>7</th>\n",
       "      <td>2023-08-01</td>\n",
       "      <td>1040</td>\n",
       "      <td>345106</td>\n",
       "      <td>2023-08-01 - 345106-0</td>\n",
       "      <td>1</td>\n",
       "      <td>2023-08-01 05:30:30</td>\n",
       "      <td>2023-08-01 05:43:43</td>\n",
       "      <td>13.216667</td>\n",
       "      <td>-1.716666</td>\n",
       "      <td>13.216666</td>\n",
       "    </tr>\n",
       "    <tr>\n",
       "      <th>11</th>\n",
       "      <td>2023-08-01</td>\n",
       "      <td>1040</td>\n",
       "      <td>345107</td>\n",
       "      <td>2023-08-01 - 345107-0</td>\n",
       "      <td>1</td>\n",
       "      <td>2023-08-01 06:05:31</td>\n",
       "      <td>2023-08-01 06:16:19</td>\n",
       "      <td>10.800000</td>\n",
       "      <td>-1.316666</td>\n",
       "      <td>10.800000</td>\n",
       "    </tr>\n",
       "    <tr>\n",
       "      <th>14</th>\n",
       "      <td>2023-08-01</td>\n",
       "      <td>1040</td>\n",
       "      <td>345108</td>\n",
       "      <td>2023-08-01 - 345108-0</td>\n",
       "      <td>1</td>\n",
       "      <td>2023-08-01 06:30:59</td>\n",
       "      <td>2023-08-01 06:43:31</td>\n",
       "      <td>12.533333</td>\n",
       "      <td>-1.516666</td>\n",
       "      <td>12.533333</td>\n",
       "    </tr>\n",
       "  </tbody>\n",
       "</table>\n",
       "</div>"
      ],
      "text/plain": [
       "          DATE  OPERATOR  TRIP_ID      CORRECTED_TRIP_ID  TRIP_EDGE  \\\n",
       "0   2023-08-01      1040   345104  2023-08-01 - 345104-0          1   \n",
       "4   2023-08-01      1040   345105  2023-08-01 - 345105-0          1   \n",
       "7   2023-08-01      1040   345106  2023-08-01 - 345106-0          1   \n",
       "11  2023-08-01      1040   345107  2023-08-01 - 345107-0          1   \n",
       "14  2023-08-01      1040   345108  2023-08-01 - 345108-0          1   \n",
       "\n",
       "   ACTUAL_ARRIVAL_TIME ACTUAL_DEPARTURE_TIME    LAYOVER  ADHERENCE  \\\n",
       "0  2023-08-01 04:37:38   2023-08-01 04:44:08   6.500000  -2.133333   \n",
       "4  2023-08-01 05:03:43   2023-08-01 05:16:35  12.866667  -1.583333   \n",
       "7  2023-08-01 05:30:30   2023-08-01 05:43:43  13.216667  -1.716666   \n",
       "11 2023-08-01 06:05:31   2023-08-01 06:16:19  10.800000  -1.316666   \n",
       "14 2023-08-01 06:30:59   2023-08-01 06:43:31  12.533333  -1.516666   \n",
       "\n",
       "    DWELL_IN_MINS  \n",
       "0        6.500000  \n",
       "4       12.866666  \n",
       "7       13.216666  \n",
       "11      10.800000  \n",
       "14      12.533333  "
      ]
     },
     "execution_count": 16,
     "metadata": {},
     "output_type": "execute_result"
    }
   ],
   "source": [
    "trip_1 = wego[['DATE','OPERATOR','TRIP_ID','CORRECTED_TRIP_ID','TRIP_EDGE','ACTUAL_ARRIVAL_TIME','ACTUAL_DEPARTURE_TIME','LAYOVER','ADHERENCE','DWELL_IN_MINS']]\n",
    "trip_1 = trip_1[trip_1['TRIP_EDGE']== 1]\n",
    "trip_1.head()"
   ]
  },
  {
   "cell_type": "code",
   "execution_count": 17,
   "metadata": {},
   "outputs": [
    {
     "data": {
      "text/html": [
       "<div>\n",
       "<style scoped>\n",
       "    .dataframe tbody tr th:only-of-type {\n",
       "        vertical-align: middle;\n",
       "    }\n",
       "\n",
       "    .dataframe tbody tr th {\n",
       "        vertical-align: top;\n",
       "    }\n",
       "\n",
       "    .dataframe thead th {\n",
       "        text-align: right;\n",
       "    }\n",
       "</style>\n",
       "<table border=\"1\" class=\"dataframe\">\n",
       "  <thead>\n",
       "    <tr style=\"text-align: right;\">\n",
       "      <th></th>\n",
       "      <th>DATE</th>\n",
       "      <th>OPERATOR</th>\n",
       "      <th>TRIP_ID</th>\n",
       "      <th>CORRECTED_TRIP_ID</th>\n",
       "      <th>TRIP_EDGE</th>\n",
       "      <th>ACTUAL_ARRIVAL_TIME</th>\n",
       "      <th>ACTUAL_DEPARTURE_TIME</th>\n",
       "      <th>LAYOVER</th>\n",
       "      <th>ADHERENCE</th>\n",
       "      <th>DWELL_IN_MINS</th>\n",
       "    </tr>\n",
       "  </thead>\n",
       "  <tbody>\n",
       "    <tr>\n",
       "      <th>3</th>\n",
       "      <td>2023-08-01</td>\n",
       "      <td>1040</td>\n",
       "      <td>345104</td>\n",
       "      <td>2023-08-01 - 345104-0</td>\n",
       "      <td>2</td>\n",
       "      <td>2023-08-01 05:03:43</td>\n",
       "      <td>2023-08-01 05:03:43</td>\n",
       "      <td>0.0</td>\n",
       "      <td>6.283333</td>\n",
       "      <td>0.0</td>\n",
       "    </tr>\n",
       "    <tr>\n",
       "      <th>6</th>\n",
       "      <td>2023-08-01</td>\n",
       "      <td>1040</td>\n",
       "      <td>345105</td>\n",
       "      <td>2023-08-01 - 345105-0</td>\n",
       "      <td>2</td>\n",
       "      <td>2023-08-01 05:30:30</td>\n",
       "      <td>2023-08-01 05:30:30</td>\n",
       "      <td>0.0</td>\n",
       "      <td>1.500000</td>\n",
       "      <td>0.0</td>\n",
       "    </tr>\n",
       "    <tr>\n",
       "      <th>10</th>\n",
       "      <td>2023-08-01</td>\n",
       "      <td>1040</td>\n",
       "      <td>345106</td>\n",
       "      <td>2023-08-01 - 345106-0</td>\n",
       "      <td>2</td>\n",
       "      <td>2023-08-01 06:05:31</td>\n",
       "      <td>2023-08-01 06:05:31</td>\n",
       "      <td>0.0</td>\n",
       "      <td>4.483333</td>\n",
       "      <td>0.0</td>\n",
       "    </tr>\n",
       "    <tr>\n",
       "      <th>13</th>\n",
       "      <td>2023-08-01</td>\n",
       "      <td>1040</td>\n",
       "      <td>345107</td>\n",
       "      <td>2023-08-01 - 345107-0</td>\n",
       "      <td>2</td>\n",
       "      <td>2023-08-01 06:30:59</td>\n",
       "      <td>2023-08-01 06:30:59</td>\n",
       "      <td>0.0</td>\n",
       "      <td>4.016666</td>\n",
       "      <td>0.0</td>\n",
       "    </tr>\n",
       "    <tr>\n",
       "      <th>17</th>\n",
       "      <td>2023-08-01</td>\n",
       "      <td>1040</td>\n",
       "      <td>345108</td>\n",
       "      <td>2023-08-01 - 345108-0</td>\n",
       "      <td>2</td>\n",
       "      <td>2023-08-01 07:05:49</td>\n",
       "      <td>2023-08-01 07:05:49</td>\n",
       "      <td>0.0</td>\n",
       "      <td>4.183333</td>\n",
       "      <td>0.0</td>\n",
       "    </tr>\n",
       "  </tbody>\n",
       "</table>\n",
       "</div>"
      ],
      "text/plain": [
       "          DATE  OPERATOR  TRIP_ID      CORRECTED_TRIP_ID  TRIP_EDGE  \\\n",
       "3   2023-08-01      1040   345104  2023-08-01 - 345104-0          2   \n",
       "6   2023-08-01      1040   345105  2023-08-01 - 345105-0          2   \n",
       "10  2023-08-01      1040   345106  2023-08-01 - 345106-0          2   \n",
       "13  2023-08-01      1040   345107  2023-08-01 - 345107-0          2   \n",
       "17  2023-08-01      1040   345108  2023-08-01 - 345108-0          2   \n",
       "\n",
       "   ACTUAL_ARRIVAL_TIME ACTUAL_DEPARTURE_TIME  LAYOVER  ADHERENCE  \\\n",
       "3  2023-08-01 05:03:43   2023-08-01 05:03:43      0.0   6.283333   \n",
       "6  2023-08-01 05:30:30   2023-08-01 05:30:30      0.0   1.500000   \n",
       "10 2023-08-01 06:05:31   2023-08-01 06:05:31      0.0   4.483333   \n",
       "13 2023-08-01 06:30:59   2023-08-01 06:30:59      0.0   4.016666   \n",
       "17 2023-08-01 07:05:49   2023-08-01 07:05:49      0.0   4.183333   \n",
       "\n",
       "    DWELL_IN_MINS  \n",
       "3             0.0  \n",
       "6             0.0  \n",
       "10            0.0  \n",
       "13            0.0  \n",
       "17            0.0  "
      ]
     },
     "execution_count": 17,
     "metadata": {},
     "output_type": "execute_result"
    }
   ],
   "source": [
    "trip_2 = wego[['DATE','OPERATOR','TRIP_ID','CORRECTED_TRIP_ID','TRIP_EDGE','ACTUAL_ARRIVAL_TIME','ACTUAL_DEPARTURE_TIME','LAYOVER','ADHERENCE','DWELL_IN_MINS']]\n",
    "trip_2 = trip_2[trip_2['TRIP_EDGE']== 2]\n",
    "trip_2.head()"
   ]
  },
  {
   "cell_type": "code",
   "execution_count": 18,
   "metadata": {},
   "outputs": [
    {
     "data": {
      "text/html": [
       "<div>\n",
       "<style scoped>\n",
       "    .dataframe tbody tr th:only-of-type {\n",
       "        vertical-align: middle;\n",
       "    }\n",
       "\n",
       "    .dataframe tbody tr th {\n",
       "        vertical-align: top;\n",
       "    }\n",
       "\n",
       "    .dataframe thead th {\n",
       "        text-align: right;\n",
       "    }\n",
       "</style>\n",
       "<table border=\"1\" class=\"dataframe\">\n",
       "  <thead>\n",
       "    <tr style=\"text-align: right;\">\n",
       "      <th></th>\n",
       "      <th>DATE_x</th>\n",
       "      <th>OPERATOR_x</th>\n",
       "      <th>TRIP_ID_x</th>\n",
       "      <th>CORRECTED_TRIP_ID</th>\n",
       "      <th>TRIP_EDGE_x</th>\n",
       "      <th>ACTUAL_ARRIVAL_TIME_x</th>\n",
       "      <th>ACTUAL_DEPARTURE_TIME_x</th>\n",
       "      <th>LAYOVER_x</th>\n",
       "      <th>ADHERENCE_x</th>\n",
       "      <th>DWELL_IN_MINS_x</th>\n",
       "      <th>DATE_y</th>\n",
       "      <th>OPERATOR_y</th>\n",
       "      <th>TRIP_ID_y</th>\n",
       "      <th>TRIP_EDGE_y</th>\n",
       "      <th>ACTUAL_ARRIVAL_TIME_y</th>\n",
       "      <th>ACTUAL_DEPARTURE_TIME_y</th>\n",
       "      <th>LAYOVER_y</th>\n",
       "      <th>ADHERENCE_y</th>\n",
       "      <th>DWELL_IN_MINS_y</th>\n",
       "    </tr>\n",
       "  </thead>\n",
       "  <tbody>\n",
       "    <tr>\n",
       "      <th>0</th>\n",
       "      <td>2023-08-01</td>\n",
       "      <td>1040</td>\n",
       "      <td>345104</td>\n",
       "      <td>2023-08-01 - 345104-0</td>\n",
       "      <td>1</td>\n",
       "      <td>2023-08-01 04:37:38</td>\n",
       "      <td>2023-08-01 04:44:08</td>\n",
       "      <td>6.500000</td>\n",
       "      <td>-2.133333</td>\n",
       "      <td>6.500000</td>\n",
       "      <td>2023-08-01</td>\n",
       "      <td>1040</td>\n",
       "      <td>345104</td>\n",
       "      <td>2</td>\n",
       "      <td>2023-08-01 05:03:43</td>\n",
       "      <td>2023-08-01 05:03:43</td>\n",
       "      <td>0.0</td>\n",
       "      <td>6.283333</td>\n",
       "      <td>0.0</td>\n",
       "    </tr>\n",
       "    <tr>\n",
       "      <th>1</th>\n",
       "      <td>2023-08-01</td>\n",
       "      <td>1040</td>\n",
       "      <td>345105</td>\n",
       "      <td>2023-08-01 - 345105-0</td>\n",
       "      <td>1</td>\n",
       "      <td>2023-08-01 05:03:43</td>\n",
       "      <td>2023-08-01 05:16:35</td>\n",
       "      <td>12.866667</td>\n",
       "      <td>-1.583333</td>\n",
       "      <td>12.866666</td>\n",
       "      <td>2023-08-01</td>\n",
       "      <td>1040</td>\n",
       "      <td>345105</td>\n",
       "      <td>2</td>\n",
       "      <td>2023-08-01 05:30:30</td>\n",
       "      <td>2023-08-01 05:30:30</td>\n",
       "      <td>0.0</td>\n",
       "      <td>1.500000</td>\n",
       "      <td>0.0</td>\n",
       "    </tr>\n",
       "    <tr>\n",
       "      <th>2</th>\n",
       "      <td>2023-08-01</td>\n",
       "      <td>1040</td>\n",
       "      <td>345106</td>\n",
       "      <td>2023-08-01 - 345106-0</td>\n",
       "      <td>1</td>\n",
       "      <td>2023-08-01 05:30:30</td>\n",
       "      <td>2023-08-01 05:43:43</td>\n",
       "      <td>13.216667</td>\n",
       "      <td>-1.716666</td>\n",
       "      <td>13.216666</td>\n",
       "      <td>2023-08-01</td>\n",
       "      <td>1040</td>\n",
       "      <td>345106</td>\n",
       "      <td>2</td>\n",
       "      <td>2023-08-01 06:05:31</td>\n",
       "      <td>2023-08-01 06:05:31</td>\n",
       "      <td>0.0</td>\n",
       "      <td>4.483333</td>\n",
       "      <td>0.0</td>\n",
       "    </tr>\n",
       "    <tr>\n",
       "      <th>3</th>\n",
       "      <td>2023-08-01</td>\n",
       "      <td>1040</td>\n",
       "      <td>345107</td>\n",
       "      <td>2023-08-01 - 345107-0</td>\n",
       "      <td>1</td>\n",
       "      <td>2023-08-01 06:05:31</td>\n",
       "      <td>2023-08-01 06:16:19</td>\n",
       "      <td>10.800000</td>\n",
       "      <td>-1.316666</td>\n",
       "      <td>10.800000</td>\n",
       "      <td>2023-08-01</td>\n",
       "      <td>1040</td>\n",
       "      <td>345107</td>\n",
       "      <td>2</td>\n",
       "      <td>2023-08-01 06:30:59</td>\n",
       "      <td>2023-08-01 06:30:59</td>\n",
       "      <td>0.0</td>\n",
       "      <td>4.016666</td>\n",
       "      <td>0.0</td>\n",
       "    </tr>\n",
       "    <tr>\n",
       "      <th>4</th>\n",
       "      <td>2023-08-01</td>\n",
       "      <td>1040</td>\n",
       "      <td>345108</td>\n",
       "      <td>2023-08-01 - 345108-0</td>\n",
       "      <td>1</td>\n",
       "      <td>2023-08-01 06:30:59</td>\n",
       "      <td>2023-08-01 06:43:31</td>\n",
       "      <td>12.533333</td>\n",
       "      <td>-1.516666</td>\n",
       "      <td>12.533333</td>\n",
       "      <td>2023-08-01</td>\n",
       "      <td>1040</td>\n",
       "      <td>345108</td>\n",
       "      <td>2</td>\n",
       "      <td>2023-08-01 07:05:49</td>\n",
       "      <td>2023-08-01 07:05:49</td>\n",
       "      <td>0.0</td>\n",
       "      <td>4.183333</td>\n",
       "      <td>0.0</td>\n",
       "    </tr>\n",
       "  </tbody>\n",
       "</table>\n",
       "</div>"
      ],
      "text/plain": [
       "       DATE_x  OPERATOR_x  TRIP_ID_x      CORRECTED_TRIP_ID  TRIP_EDGE_x  \\\n",
       "0  2023-08-01        1040     345104  2023-08-01 - 345104-0            1   \n",
       "1  2023-08-01        1040     345105  2023-08-01 - 345105-0            1   \n",
       "2  2023-08-01        1040     345106  2023-08-01 - 345106-0            1   \n",
       "3  2023-08-01        1040     345107  2023-08-01 - 345107-0            1   \n",
       "4  2023-08-01        1040     345108  2023-08-01 - 345108-0            1   \n",
       "\n",
       "  ACTUAL_ARRIVAL_TIME_x ACTUAL_DEPARTURE_TIME_x  LAYOVER_x  ADHERENCE_x  \\\n",
       "0   2023-08-01 04:37:38     2023-08-01 04:44:08   6.500000    -2.133333   \n",
       "1   2023-08-01 05:03:43     2023-08-01 05:16:35  12.866667    -1.583333   \n",
       "2   2023-08-01 05:30:30     2023-08-01 05:43:43  13.216667    -1.716666   \n",
       "3   2023-08-01 06:05:31     2023-08-01 06:16:19  10.800000    -1.316666   \n",
       "4   2023-08-01 06:30:59     2023-08-01 06:43:31  12.533333    -1.516666   \n",
       "\n",
       "   DWELL_IN_MINS_x      DATE_y  OPERATOR_y  TRIP_ID_y  TRIP_EDGE_y  \\\n",
       "0         6.500000  2023-08-01        1040     345104            2   \n",
       "1        12.866666  2023-08-01        1040     345105            2   \n",
       "2        13.216666  2023-08-01        1040     345106            2   \n",
       "3        10.800000  2023-08-01        1040     345107            2   \n",
       "4        12.533333  2023-08-01        1040     345108            2   \n",
       "\n",
       "  ACTUAL_ARRIVAL_TIME_y ACTUAL_DEPARTURE_TIME_y  LAYOVER_y  ADHERENCE_y  \\\n",
       "0   2023-08-01 05:03:43     2023-08-01 05:03:43        0.0     6.283333   \n",
       "1   2023-08-01 05:30:30     2023-08-01 05:30:30        0.0     1.500000   \n",
       "2   2023-08-01 06:05:31     2023-08-01 06:05:31        0.0     4.483333   \n",
       "3   2023-08-01 06:30:59     2023-08-01 06:30:59        0.0     4.016666   \n",
       "4   2023-08-01 07:05:49     2023-08-01 07:05:49        0.0     4.183333   \n",
       "\n",
       "   DWELL_IN_MINS_y  \n",
       "0              0.0  \n",
       "1              0.0  \n",
       "2              0.0  \n",
       "3              0.0  \n",
       "4              0.0  "
      ]
     },
     "execution_count": 18,
     "metadata": {},
     "output_type": "execute_result"
    }
   ],
   "source": [
    "first_last_adherence = pd.merge(trip_1, trip_2, on=['CORRECTED_TRIP_ID'], how='inner')\n",
    "first_last_adherence.head()"
   ]
  },
  {
   "cell_type": "code",
   "execution_count": 19,
   "metadata": {},
   "outputs": [
    {
     "data": {
      "text/html": [
       "<div>\n",
       "<style scoped>\n",
       "    .dataframe tbody tr th:only-of-type {\n",
       "        vertical-align: middle;\n",
       "    }\n",
       "\n",
       "    .dataframe tbody tr th {\n",
       "        vertical-align: top;\n",
       "    }\n",
       "\n",
       "    .dataframe thead th {\n",
       "        text-align: right;\n",
       "    }\n",
       "</style>\n",
       "<table border=\"1\" class=\"dataframe\">\n",
       "  <thead>\n",
       "    <tr style=\"text-align: right;\">\n",
       "      <th></th>\n",
       "      <th>DATE_x</th>\n",
       "      <th>OPERATOR_x</th>\n",
       "      <th>TRIP_ID_x</th>\n",
       "      <th>CORRECTED_TRIP_ID</th>\n",
       "      <th>LAYOVER_x</th>\n",
       "      <th>ADHERENCE_x</th>\n",
       "      <th>DWELL_IN_MINS_x</th>\n",
       "      <th>ADHERENCE_y</th>\n",
       "    </tr>\n",
       "  </thead>\n",
       "  <tbody>\n",
       "    <tr>\n",
       "      <th>0</th>\n",
       "      <td>2023-08-01</td>\n",
       "      <td>1040</td>\n",
       "      <td>345104</td>\n",
       "      <td>2023-08-01 - 345104-0</td>\n",
       "      <td>6.500000</td>\n",
       "      <td>-2.133333</td>\n",
       "      <td>6.500000</td>\n",
       "      <td>6.283333</td>\n",
       "    </tr>\n",
       "    <tr>\n",
       "      <th>1</th>\n",
       "      <td>2023-08-01</td>\n",
       "      <td>1040</td>\n",
       "      <td>345105</td>\n",
       "      <td>2023-08-01 - 345105-0</td>\n",
       "      <td>12.866667</td>\n",
       "      <td>-1.583333</td>\n",
       "      <td>12.866666</td>\n",
       "      <td>1.500000</td>\n",
       "    </tr>\n",
       "    <tr>\n",
       "      <th>2</th>\n",
       "      <td>2023-08-01</td>\n",
       "      <td>1040</td>\n",
       "      <td>345106</td>\n",
       "      <td>2023-08-01 - 345106-0</td>\n",
       "      <td>13.216667</td>\n",
       "      <td>-1.716666</td>\n",
       "      <td>13.216666</td>\n",
       "      <td>4.483333</td>\n",
       "    </tr>\n",
       "    <tr>\n",
       "      <th>3</th>\n",
       "      <td>2023-08-01</td>\n",
       "      <td>1040</td>\n",
       "      <td>345107</td>\n",
       "      <td>2023-08-01 - 345107-0</td>\n",
       "      <td>10.800000</td>\n",
       "      <td>-1.316666</td>\n",
       "      <td>10.800000</td>\n",
       "      <td>4.016666</td>\n",
       "    </tr>\n",
       "    <tr>\n",
       "      <th>4</th>\n",
       "      <td>2023-08-01</td>\n",
       "      <td>1040</td>\n",
       "      <td>345108</td>\n",
       "      <td>2023-08-01 - 345108-0</td>\n",
       "      <td>12.533333</td>\n",
       "      <td>-1.516666</td>\n",
       "      <td>12.533333</td>\n",
       "      <td>4.183333</td>\n",
       "    </tr>\n",
       "  </tbody>\n",
       "</table>\n",
       "</div>"
      ],
      "text/plain": [
       "       DATE_x  OPERATOR_x  TRIP_ID_x      CORRECTED_TRIP_ID  LAYOVER_x  \\\n",
       "0  2023-08-01        1040     345104  2023-08-01 - 345104-0   6.500000   \n",
       "1  2023-08-01        1040     345105  2023-08-01 - 345105-0  12.866667   \n",
       "2  2023-08-01        1040     345106  2023-08-01 - 345106-0  13.216667   \n",
       "3  2023-08-01        1040     345107  2023-08-01 - 345107-0  10.800000   \n",
       "4  2023-08-01        1040     345108  2023-08-01 - 345108-0  12.533333   \n",
       "\n",
       "   ADHERENCE_x  DWELL_IN_MINS_x  ADHERENCE_y  \n",
       "0    -2.133333         6.500000     6.283333  \n",
       "1    -1.583333        12.866666     1.500000  \n",
       "2    -1.716666        13.216666     4.483333  \n",
       "3    -1.316666        10.800000     4.016666  \n",
       "4    -1.516666        12.533333     4.183333  "
      ]
     },
     "execution_count": 19,
     "metadata": {},
     "output_type": "execute_result"
    }
   ],
   "source": [
    "first_last_adherence.drop(columns=['DATE_y','OPERATOR_y','TRIP_ID_y','TRIP_EDGE_y', 'ACTUAL_ARRIVAL_TIME_y','ACTUAL_ARRIVAL_TIME_x', 'TRIP_EDGE_x', 'ACTUAL_ARRIVAL_TIME_y','ACTUAL_DEPARTURE_TIME_x','ACTUAL_ARRIVAL_TIME_y','LAYOVER_y', 'DWELL_IN_MINS_y','ACTUAL_DEPARTURE_TIME_y'], axis = 1, inplace=True)\n",
    "first_last_adherence.head()"
   ]
  },
  {
   "cell_type": "code",
   "execution_count": 20,
   "metadata": {},
   "outputs": [
    {
     "data": {
      "text/html": [
       "<div>\n",
       "<style scoped>\n",
       "    .dataframe tbody tr th:only-of-type {\n",
       "        vertical-align: middle;\n",
       "    }\n",
       "\n",
       "    .dataframe tbody tr th {\n",
       "        vertical-align: top;\n",
       "    }\n",
       "\n",
       "    .dataframe thead th {\n",
       "        text-align: right;\n",
       "    }\n",
       "</style>\n",
       "<table border=\"1\" class=\"dataframe\">\n",
       "  <thead>\n",
       "    <tr style=\"text-align: right;\">\n",
       "      <th></th>\n",
       "      <th>DATE</th>\n",
       "      <th>OPERATOR</th>\n",
       "      <th>TRIP_ID</th>\n",
       "      <th>CORRECTED_TRIP_ID</th>\n",
       "      <th>FIRST_LAYOVER</th>\n",
       "      <th>FIRST_ADHERENCE</th>\n",
       "      <th>FIRST_DWELL</th>\n",
       "      <th>LAST_ADHERENCE</th>\n",
       "    </tr>\n",
       "  </thead>\n",
       "  <tbody>\n",
       "    <tr>\n",
       "      <th>0</th>\n",
       "      <td>2023-08-01</td>\n",
       "      <td>1040</td>\n",
       "      <td>345104</td>\n",
       "      <td>2023-08-01 - 345104-0</td>\n",
       "      <td>6.500000</td>\n",
       "      <td>-2.133333</td>\n",
       "      <td>6.500000</td>\n",
       "      <td>6.283333</td>\n",
       "    </tr>\n",
       "    <tr>\n",
       "      <th>1</th>\n",
       "      <td>2023-08-01</td>\n",
       "      <td>1040</td>\n",
       "      <td>345105</td>\n",
       "      <td>2023-08-01 - 345105-0</td>\n",
       "      <td>12.866667</td>\n",
       "      <td>-1.583333</td>\n",
       "      <td>12.866666</td>\n",
       "      <td>1.500000</td>\n",
       "    </tr>\n",
       "    <tr>\n",
       "      <th>2</th>\n",
       "      <td>2023-08-01</td>\n",
       "      <td>1040</td>\n",
       "      <td>345106</td>\n",
       "      <td>2023-08-01 - 345106-0</td>\n",
       "      <td>13.216667</td>\n",
       "      <td>-1.716666</td>\n",
       "      <td>13.216666</td>\n",
       "      <td>4.483333</td>\n",
       "    </tr>\n",
       "    <tr>\n",
       "      <th>3</th>\n",
       "      <td>2023-08-01</td>\n",
       "      <td>1040</td>\n",
       "      <td>345107</td>\n",
       "      <td>2023-08-01 - 345107-0</td>\n",
       "      <td>10.800000</td>\n",
       "      <td>-1.316666</td>\n",
       "      <td>10.800000</td>\n",
       "      <td>4.016666</td>\n",
       "    </tr>\n",
       "    <tr>\n",
       "      <th>4</th>\n",
       "      <td>2023-08-01</td>\n",
       "      <td>1040</td>\n",
       "      <td>345108</td>\n",
       "      <td>2023-08-01 - 345108-0</td>\n",
       "      <td>12.533333</td>\n",
       "      <td>-1.516666</td>\n",
       "      <td>12.533333</td>\n",
       "      <td>4.183333</td>\n",
       "    </tr>\n",
       "  </tbody>\n",
       "</table>\n",
       "</div>"
      ],
      "text/plain": [
       "         DATE  OPERATOR  TRIP_ID      CORRECTED_TRIP_ID  FIRST_LAYOVER  \\\n",
       "0  2023-08-01      1040   345104  2023-08-01 - 345104-0       6.500000   \n",
       "1  2023-08-01      1040   345105  2023-08-01 - 345105-0      12.866667   \n",
       "2  2023-08-01      1040   345106  2023-08-01 - 345106-0      13.216667   \n",
       "3  2023-08-01      1040   345107  2023-08-01 - 345107-0      10.800000   \n",
       "4  2023-08-01      1040   345108  2023-08-01 - 345108-0      12.533333   \n",
       "\n",
       "   FIRST_ADHERENCE  FIRST_DWELL  LAST_ADHERENCE  \n",
       "0        -2.133333     6.500000        6.283333  \n",
       "1        -1.583333    12.866666        1.500000  \n",
       "2        -1.716666    13.216666        4.483333  \n",
       "3        -1.316666    10.800000        4.016666  \n",
       "4        -1.516666    12.533333        4.183333  "
      ]
     },
     "execution_count": 20,
     "metadata": {},
     "output_type": "execute_result"
    }
   ],
   "source": [
    "first_last_adherence = first_last_adherence.rename(columns={'DATE_x': 'DATE', 'OPERATOR_x': 'OPERATOR','TRIP_ID_x':'TRIP_ID','LAYOVER_x':'FIRST_LAYOVER','ADHERENCE_x':'FIRST_ADHERENCE','DWELL_IN_MINS_x':'FIRST_DWELL','ADHERENCE_y':'LAST_ADHERENCE'})\n",
    "first_last_adherence = first_last_adherence[first_last_adherence['FIRST_DWELL']>=0].copy()\n",
    "first_last_adherence.head(5)"
   ]
  },
  {
   "cell_type": "code",
   "execution_count": 21,
   "metadata": {},
   "outputs": [
    {
     "data": {
      "image/png": "[encoded data removed]",
      "text/plain": [
       "<Figure size 640x480 with 1 Axes>"
      ]
     },
     "metadata": {},
     "output_type": "display_data"
    }
   ],
   "source": [
    "first_last_adherence.plot(kind = 'scatter', x = 'FIRST_DWELL', y = 'LAST_ADHERENCE')\n",
    "plt.title('First Stop Dwell Time (min) vs. Last Stop Lateness');"
   ]
  },
  {
   "cell_type": "code",
   "execution_count": 22,
   "metadata": {},
   "outputs": [
    {
     "name": "stdout",
     "output_type": "stream",
     "text": [
      "r = 0.10127870679835801\n",
      "R^2 = 0.01025737645074777\n"
     ]
    }
   ],
   "source": [
    "r = first_last_adherence[['FIRST_DWELL', 'LAST_ADHERENCE']].corr()['FIRST_DWELL']['LAST_ADHERENCE']\n",
    "print('r = ' + str(r))\n",
    "print('R^2 = ' + str(r**2))"
   ]
  },
  {
   "cell_type": "code",
   "execution_count": 23,
   "metadata": {},
   "outputs": [
    {
     "data": {
      "image/png": "[encoded data removed]",
      "text/plain": [
       "<Figure size 640x480 with 1 Axes>"
      ]
     },
     "metadata": {},
     "output_type": "display_data"
    }
   ],
   "source": [
    "first_last_adherence.plot(kind = 'scatter', x = 'FIRST_ADHERENCE', y = 'LAST_ADHERENCE')\n",
    "plt.title('First Stop Layover (min) vs. Last Stop Lateness');"
   ]
  },
  {
   "cell_type": "code",
   "execution_count": 24,
   "metadata": {},
   "outputs": [
    {
     "name": "stdout",
     "output_type": "stream",
     "text": [
      "r = 0.4538638926489432\n",
      "R^2 = 0.20599243305045145\n"
     ]
    }
   ],
   "source": [
    "r = first_last_adherence[['FIRST_ADHERENCE', 'LAST_ADHERENCE']].corr()['FIRST_ADHERENCE']['LAST_ADHERENCE']\n",
    "print('r = ' + str(r))\n",
    "print('R^2 = ' + str(r**2))"
   ]
  },
  {
   "cell_type": "code",
   "execution_count": 25,
   "metadata": {},
   "outputs": [
    {
     "data": {
      "image/png": "[encoded data removed]",
      "text/plain": [
       "<Figure size 640x480 with 1 Axes>"
      ]
     },
     "metadata": {},
     "output_type": "display_data"
    }
   ],
   "source": [
    "first_last_adherence.plot(kind = 'scatter', x = 'FIRST_LAYOVER', y = 'LAST_ADHERENCE')\n",
    "plt.title('First Stop Layover (min) vs. Last Stop Lateness');"
   ]
  },
  {
   "cell_type": "code",
   "execution_count": 26,
   "metadata": {},
   "outputs": [],
   "source": [
    "first_last_adherence_no_out = first_last_adherence[(first_last_adherence['FIRST_LAYOVER']<100) & (first_last_adherence['LAST_ADHERENCE']>-200)]"
   ]
  },
  {
   "cell_type": "code",
   "execution_count": 27,
   "metadata": {},
   "outputs": [
    {
     "data": {
      "image/png": "[encoded data removed]",
      "text/plain": [
       "<Figure size 640x480 with 1 Axes>"
      ]
     },
     "metadata": {},
     "output_type": "display_data"
    }
   ],
   "source": [
    "first_last_adherence_no_out.plot(kind = 'scatter', x = 'FIRST_DWELL', y = 'LAST_ADHERENCE')\n",
    "plt.title('First Stop Dwell Time (min) vs. Last Stop Lateness');"
   ]
  },
  {
   "cell_type": "code",
   "execution_count": 28,
   "metadata": {},
   "outputs": [
    {
     "name": "stdout",
     "output_type": "stream",
     "text": [
      "r = 0.13046188237180179\n",
      "R^2 = 0.017020302751993847\n"
     ]
    }
   ],
   "source": [
    "r = first_last_adherence_no_out[['FIRST_DWELL', 'LAST_ADHERENCE']].corr()['FIRST_DWELL']['LAST_ADHERENCE']\n",
    "print('r = ' + str(r))\n",
    "print('R^2 = ' + str(r**2))"
   ]
  },
  {
   "cell_type": "code",
   "execution_count": 33,
   "metadata": {},
   "outputs": [
    {
     "data": {
      "image/png": "[encoded data removed]",
      "text/plain": [
       "<Figure size 640x480 with 1 Axes>"
      ]
     },
     "metadata": {},
     "output_type": "display_data"
    }
   ],
   "source": [
    "first_last_adherence_no_out.plot(kind = 'scatter', x = 'FIRST_ADHERENCE', y = 'LAST_ADHERENCE')\n",
    "plt.title('First Stop Departure vs. Last Stop Lateness');"
   ]
  },
  {
   "cell_type": "code",
   "execution_count": 30,
   "metadata": {},
   "outputs": [
    {
     "name": "stdout",
     "output_type": "stream",
     "text": [
      "r = 0.5228857578942757\n",
      "R^2 = 0.2734095158086711\n"
     ]
    }
   ],
   "source": [
    "r = first_last_adherence_no_out[['FIRST_ADHERENCE', 'LAST_ADHERENCE']].corr()['FIRST_ADHERENCE']['LAST_ADHERENCE']\n",
    "print('r = ' + str(r))\n",
    "print('R^2 = ' + str(r**2))"
   ]
  },
  {
   "cell_type": "code",
   "execution_count": 31,
   "metadata": {},
   "outputs": [
    {
     "data": {
      "image/png": "[encoded data removed]",
      "text/plain": [
       "<Figure size 640x480 with 1 Axes>"
      ]
     },
     "metadata": {},
     "output_type": "display_data"
    }
   ],
   "source": [
    "first_last_adherence_no_out.plot(kind = 'scatter', x = 'FIRST_LAYOVER', y = 'LAST_ADHERENCE')\n",
    "plt.title('First Stop Layover (min) vs. Last Stop Lateness');"
   ]
  },
  {
   "cell_type": "code",
   "execution_count": 32,
   "metadata": {},
   "outputs": [
    {
     "name": "stdout",
     "output_type": "stream",
     "text": [
      "r = 0.1304618828461733\n",
      "R^2 = 0.017020302875768646\n"
     ]
    }
   ],
   "source": [
    "r = first_last_adherence_no_out[['FIRST_LAYOVER', 'LAST_ADHERENCE']].corr()['FIRST_LAYOVER']['LAST_ADHERENCE']\n",
    "print('r = ' + str(r))\n",
    "print('R^2 = ' + str(r**2))"
   ]
  },
  {
   "cell_type": "code",
   "execution_count": null,
   "metadata": {},
   "outputs": [],
   "source": []
  }
 ],
 "metadata": {
  "kernelspec": {
   "display_name": "Python 3 (ipykernel)",
   "language": "python",
   "name": "python3"
  },
  "language_info": {
   "codemirror_mode": {
    "name": "ipython",
    "version": 3
   },
   "file_extension": ".py",
   "mimetype": "text/x-python",
   "name": "python",
   "nbconvert_exporter": "python",
   "pygments_lexer": "ipython3",
   "version": "3.11.4"
  }
 },
 "nbformat": 4,
 "nbformat_minor": 4
}
