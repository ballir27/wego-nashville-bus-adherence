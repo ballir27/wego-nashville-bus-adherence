{
 "cells": [
  {
   "cell_type": "markdown",
   "metadata": {},
   "source": [
    "# WeGo Public Transit\n",
    "\n",
    "#### Questions\n",
    "\n",
    "1. How much impact does being late or too spaced out at the first stop have downstream?\n",
    "\n",
    "\n",
    "2. What is the impact of the layover at the start of the trip (the difference between the first top arrival and departure time)? Does more layover lead to more stable headways (lower values for % headway deviation)?"
   ]
  },
  {
   "cell_type": "markdown",
   "metadata": {},
   "source": [
    "#### Read in Data"
   ]
  },
  {
   "cell_type": "code",
   "execution_count": 68,
   "metadata": {},
   "outputs": [
    {
     "name": "stdout",
     "output_type": "stream",
     "text": [
      "Collecting statsmodels\n",
      "  Downloading statsmodels-0.14.0-cp38-cp38-win_amd64.whl (9.4 MB)\n",
      "Collecting patsy>=0.5.2\n",
      "  Downloading patsy-0.5.3-py2.py3-none-any.whl (233 kB)\n",
      "Requirement already satisfied: pandas>=1.0 in c:\\users\\18285\\anaconda3\\envs\\geospatial\\lib\\site-packages (from statsmodels) (1.1.4)\n",
      "Collecting scipy!=1.9.2,>=1.4; sys_platform == \"win32\"\n",
      "  Downloading scipy-1.10.1-cp38-cp38-win_amd64.whl (42.2 MB)\n",
      "Collecting packaging>=21.3\n",
      "  Downloading packaging-23.2-py3-none-any.whl (53 kB)\n",
      "Requirement already satisfied: numpy>=1.18 in c:\\users\\18285\\anaconda3\\envs\\geospatial\\lib\\site-packages (from statsmodels) (1.19.4)\n",
      "Requirement already satisfied: six in c:\\users\\18285\\anaconda3\\envs\\geospatial\\lib\\site-packages (from patsy>=0.5.2->statsmodels) (1.15.0)Note: you may need to restart the kernel to use updated packages.\n"
     ]
    },
    {
     "name": "stderr",
     "output_type": "stream",
     "text": [
      "ERROR: After October 2020 you may experience errors when installing or updating packages. This is because pip will change the way that it resolves dependency conflicts.\n",
      "\n",
      "We recommend you use --use-feature=2020-resolver to test your packages with the new resolver before it becomes the default.\n",
      "\n",
      "scipy 1.10.1 requires numpy<1.27.0,>=1.19.5, but you'll have numpy 1.19.4 which is incompatible.\n"
     ]
    },
    {
     "name": "stdout",
     "output_type": "stream",
     "text": [
      "\n",
      "Requirement already satisfied: python-dateutil>=2.7.3 in c:\\users\\18285\\anaconda3\\envs\\geospatial\\lib\\site-packages (from pandas>=1.0->statsmodels) (2.8.1)\n",
      "Requirement already satisfied: pytz>=2017.2 in c:\\users\\18285\\anaconda3\\envs\\geospatial\\lib\\site-packages (from pandas>=1.0->statsmodels) (2020.4)\n",
      "Installing collected packages: patsy, scipy, packaging, statsmodels\n",
      "  Attempting uninstall: packaging\n",
      "    Found existing installation: packaging 20.4\n",
      "    Uninstalling packaging-20.4:\n",
      "      Successfully uninstalled packaging-20.4\n",
      "Successfully installed packaging-23.2 patsy-0.5.3 scipy-1.10.1 statsmodels-0.14.0\n"
     ]
    }
   ],
   "source": [
    "pip install statsmodels"
   ]
  },
  {
   "cell_type": "code",
   "execution_count": 69,
   "metadata": {},
   "outputs": [
    {
     "name": "stderr",
     "output_type": "stream",
     "text": [
      "C:\\Users\\18285\\anaconda3\\envs\\geospatial\\lib\\site-packages\\scipy\\__init__.py:173: UserWarning: A NumPy version >=1.19.5 and <1.27.0 is required for this version of SciPy (detected version 1.19.4)\n",
      "  warnings.warn(f\"A NumPy version >={np_minversion} and <{np_maxversion}\"\n"
     ]
    }
   ],
   "source": [
    "import pandas as pd\n",
    "import matplotlib.pyplot as plt\n",
    "import statsmodels.api as sm\n",
    "import statsmodels.formula.api as smf\n",
    "import numpy as np\n",
    "from datetime import datetime, timedelta"
   ]
  },
  {
   "cell_type": "code",
   "execution_count": 31,
   "metadata": {},
   "outputs": [
    {
     "data": {
      "text/html": [
       "<div>\n",
       "<style scoped>\n",
       "    .dataframe tbody tr th:only-of-type {\n",
       "        vertical-align: middle;\n",
       "    }\n",
       "\n",
       "    .dataframe tbody tr th {\n",
       "        vertical-align: top;\n",
       "    }\n",
       "\n",
       "    .dataframe thead th {\n",
       "        text-align: right;\n",
       "    }\n",
       "</style>\n",
       "<table border=\"1\" class=\"dataframe\">\n",
       "  <thead>\n",
       "    <tr style=\"text-align: right;\">\n",
       "      <th></th>\n",
       "      <th>CALENDAR_ID</th>\n",
       "      <th>SERVICE_ABBR</th>\n",
       "      <th>ADHERENCE_ID</th>\n",
       "      <th>DATE</th>\n",
       "      <th>ROUTE_ABBR</th>\n",
       "      <th>BLOCK_ABBR</th>\n",
       "      <th>OPERATOR</th>\n",
       "      <th>TRIP_ID</th>\n",
       "      <th>OVERLOAD_ID</th>\n",
       "      <th>ROUTE_DIRECTION_NAME</th>\n",
       "      <th>...</th>\n",
       "      <th>ACTUAL_HDWY</th>\n",
       "      <th>HDWY_DEV</th>\n",
       "      <th>ADJUSTED_EARLY_COUNT</th>\n",
       "      <th>ADJUSTED_LATE_COUNT</th>\n",
       "      <th>ADJUSTED_ONTIME_COUNT</th>\n",
       "      <th>STOP_CANCELLED</th>\n",
       "      <th>PREV_SCHED_STOP_CANCELLED</th>\n",
       "      <th>IS_RELIEF</th>\n",
       "      <th>BLOCK_STOP_ORDER</th>\n",
       "      <th>DWELL_IN_MINS</th>\n",
       "    </tr>\n",
       "  </thead>\n",
       "  <tbody>\n",
       "    <tr>\n",
       "      <th>0</th>\n",
       "      <td>120230801</td>\n",
       "      <td>1</td>\n",
       "      <td>99457890</td>\n",
       "      <td>8/1/2023</td>\n",
       "      <td>22</td>\n",
       "      <td>2200</td>\n",
       "      <td>1040</td>\n",
       "      <td>345104</td>\n",
       "      <td>0</td>\n",
       "      <td>TO DOWNTOWN</td>\n",
       "      <td>...</td>\n",
       "      <td>NaN</td>\n",
       "      <td>NaN</td>\n",
       "      <td>0</td>\n",
       "      <td>0</td>\n",
       "      <td>1</td>\n",
       "      <td>0</td>\n",
       "      <td>0.0</td>\n",
       "      <td>0</td>\n",
       "      <td>2</td>\n",
       "      <td>6.5</td>\n",
       "    </tr>\n",
       "  </tbody>\n",
       "</table>\n",
       "<p>1 rows × 30 columns</p>\n",
       "</div>"
      ],
      "text/plain": [
       "   CALENDAR_ID  SERVICE_ABBR  ADHERENCE_ID      DATE  ROUTE_ABBR  BLOCK_ABBR  \\\n",
       "0    120230801             1      99457890  8/1/2023          22        2200   \n",
       "\n",
       "   OPERATOR  TRIP_ID  OVERLOAD_ID ROUTE_DIRECTION_NAME  ... ACTUAL_HDWY  \\\n",
       "0      1040   345104            0          TO DOWNTOWN  ...         NaN   \n",
       "\n",
       "   HDWY_DEV  ADJUSTED_EARLY_COUNT  ADJUSTED_LATE_COUNT  ADJUSTED_ONTIME_COUNT  \\\n",
       "0       NaN                     0                    0                      1   \n",
       "\n",
       "  STOP_CANCELLED PREV_SCHED_STOP_CANCELLED IS_RELIEF  BLOCK_STOP_ORDER  \\\n",
       "0              0                       0.0         0                 2   \n",
       "\n",
       "   DWELL_IN_MINS  \n",
       "0            6.5  \n",
       "\n",
       "[1 rows x 30 columns]"
      ]
     },
     "execution_count": 31,
     "metadata": {},
     "output_type": "execute_result"
    }
   ],
   "source": [
    "wego = pd.read_csv('../data/Headway Data, 8-1-2023 to 9-30-2023.csv', na_values= \"NULL\")\n",
    "wego.head(1)"
   ]
  },
  {
   "cell_type": "markdown",
   "metadata": {},
   "source": [
    "#### Drop Null and NaN values"
   ]
  },
  {
   "cell_type": "code",
   "execution_count": 42,
   "metadata": {},
   "outputs": [],
   "source": [
    "wego_drop = wego[wego['ACTUAL_ARRIVAL_TIME'] != 'NULL']\n",
    "wego_drop = wego.dropna(subset=['ACTUAL_ARRIVAL_TIME'])"
   ]
  },
  {
   "cell_type": "code",
   "execution_count": 43,
   "metadata": {},
   "outputs": [
    {
     "name": "stderr",
     "output_type": "stream",
     "text": [
      "<ipython-input-43-52d78353f073>:1: SettingWithCopyWarning: \n",
      "A value is trying to be set on a copy of a slice from a DataFrame.\n",
      "Try using .loc[row_indexer,col_indexer] = value instead\n",
      "\n",
      "See the caveats in the documentation: https://pandas.pydata.org/pandas-docs/stable/user_guide/indexing.html#returning-a-view-versus-a-copy\n",
      "  wego_drop['Hours'] = wego_drop['ACTUAL_ARRIVAL_TIME'].str[:2]\n",
      "<ipython-input-43-52d78353f073>:2: SettingWithCopyWarning: \n",
      "A value is trying to be set on a copy of a slice from a DataFrame.\n",
      "Try using .loc[row_indexer,col_indexer] = value instead\n",
      "\n",
      "See the caveats in the documentation: https://pandas.pydata.org/pandas-docs/stable/user_guide/indexing.html#returning-a-view-versus-a-copy\n",
      "  wego_drop['Hours'] = wego_drop['Hours'].str.replace(':', '', regex=True)\n",
      "<ipython-input-43-52d78353f073>:3: SettingWithCopyWarning: \n",
      "A value is trying to be set on a copy of a slice from a DataFrame.\n",
      "Try using .loc[row_indexer,col_indexer] = value instead\n",
      "\n",
      "See the caveats in the documentation: https://pandas.pydata.org/pandas-docs/stable/user_guide/indexing.html#returning-a-view-versus-a-copy\n",
      "  wego_drop['Hours'] = wego_drop['Hours'].astype(int)\n"
     ]
    }
   ],
   "source": [
    "wego_drop['Hours'] = wego_drop['ACTUAL_ARRIVAL_TIME'].str[:2]\n",
    "wego_drop['Hours'] = wego_drop['Hours'].str.replace(':', '', regex=True)\n",
    "wego_drop['Hours'] = wego_drop['Hours'].astype(int)"
   ]
  },
  {
   "cell_type": "code",
   "execution_count": 44,
   "metadata": {},
   "outputs": [],
   "source": [
    "values_to_drop = [24, 25]\n",
    "wego_drop = wego_drop[~wego_drop['Hours'].isin(values_to_drop)]"
   ]
  },
  {
   "cell_type": "markdown",
   "metadata": {},
   "source": [
    "#### Drop Null and NaN values"
   ]
  },
  {
   "cell_type": "code",
   "execution_count": 45,
   "metadata": {},
   "outputs": [],
   "source": [
    "wego_drop['ACTUAL_ARRIVAL_TIME'] = pd.to_datetime(wego_drop['ACTUAL_ARRIVAL_TIME']).dt.time"
   ]
  },
  {
   "cell_type": "markdown",
   "metadata": {},
   "source": [
    "#### Create 'seconds from midnight' to rank trips"
   ]
  },
  {
   "cell_type": "code",
   "execution_count": 46,
   "metadata": {},
   "outputs": [],
   "source": [
    "wego_drop['Arrival Time (seconds)'] = wego_drop.groupby(['OPERATOR', 'DATE'])['ACTUAL_ARRIVAL_TIME'].transform(lambda x: x.apply(lambda y: y.hour * 3600 + y.minute * 60 + y.second))\n",
    "wego_drop['Rank'] = wego_drop.groupby(['OPERATOR', 'DATE'])['Arrival Time (seconds)'].rank(method='first')"
   ]
  },
  {
   "cell_type": "markdown",
   "metadata": {},
   "source": [
    "#### Create 'Unique Trip ID'"
   ]
  },
  {
   "cell_type": "code",
   "execution_count": 47,
   "metadata": {},
   "outputs": [],
   "source": [
    "wego_drop['DATE_STR'] = wego_drop['DATE'].astype(str)\n",
    "wego_drop['TRIP_ID_STR'] = wego_drop['TRIP_ID'].astype(str)"
   ]
  },
  {
   "cell_type": "code",
   "execution_count": 48,
   "metadata": {},
   "outputs": [],
   "source": [
    "wego_drop['CORRECTED_TRIP_ID'] = wego_drop['DATE_STR'] + \"-\" + wego_drop['TRIP_ID_STR']"
   ]
  },
  {
   "cell_type": "code",
   "execution_count": 49,
   "metadata": {},
   "outputs": [],
   "source": [
    "wego_drop['TRIP_RANK'] = wego_drop.groupby(['OPERATOR', 'CORRECTED_TRIP_ID'])['Arrival Time (seconds)'].rank(method='first')"
   ]
  },
  {
   "cell_type": "code",
   "execution_count": 50,
   "metadata": {},
   "outputs": [
    {
     "data": {
      "text/html": [
       "<div>\n",
       "<style scoped>\n",
       "    .dataframe tbody tr th:only-of-type {\n",
       "        vertical-align: middle;\n",
       "    }\n",
       "\n",
       "    .dataframe tbody tr th {\n",
       "        vertical-align: top;\n",
       "    }\n",
       "\n",
       "    .dataframe thead th {\n",
       "        text-align: right;\n",
       "    }\n",
       "</style>\n",
       "<table border=\"1\" class=\"dataframe\">\n",
       "  <thead>\n",
       "    <tr style=\"text-align: right;\">\n",
       "      <th></th>\n",
       "      <th>DATE</th>\n",
       "      <th>OPERATOR</th>\n",
       "      <th>ACTUAL_ARRIVAL_TIME</th>\n",
       "      <th>CORRECTED_TRIP_ID</th>\n",
       "      <th>TRIP_EDGE</th>\n",
       "      <th>TRIP_RANK</th>\n",
       "      <th>ADHERENCE</th>\n",
       "      <th>DWELL_IN_MINS</th>\n",
       "    </tr>\n",
       "  </thead>\n",
       "  <tbody>\n",
       "    <tr>\n",
       "      <th>0</th>\n",
       "      <td>8/1/2023</td>\n",
       "      <td>1040</td>\n",
       "      <td>04:37:38</td>\n",
       "      <td>8/1/2023-345104</td>\n",
       "      <td>1</td>\n",
       "      <td>1.0</td>\n",
       "      <td>-2.133333</td>\n",
       "      <td>6.500000</td>\n",
       "    </tr>\n",
       "    <tr>\n",
       "      <th>1</th>\n",
       "      <td>8/1/2023</td>\n",
       "      <td>1040</td>\n",
       "      <td>04:48:27</td>\n",
       "      <td>8/1/2023-345104</td>\n",
       "      <td>0</td>\n",
       "      <td>2.0</td>\n",
       "      <td>-2.450000</td>\n",
       "      <td>0.000000</td>\n",
       "    </tr>\n",
       "    <tr>\n",
       "      <th>2</th>\n",
       "      <td>8/1/2023</td>\n",
       "      <td>1040</td>\n",
       "      <td>04:54:56</td>\n",
       "      <td>8/1/2023-345104</td>\n",
       "      <td>0</td>\n",
       "      <td>3.0</td>\n",
       "      <td>-0.933333</td>\n",
       "      <td>0.000000</td>\n",
       "    </tr>\n",
       "    <tr>\n",
       "      <th>3</th>\n",
       "      <td>8/1/2023</td>\n",
       "      <td>1040</td>\n",
       "      <td>05:03:43</td>\n",
       "      <td>8/1/2023-345104</td>\n",
       "      <td>2</td>\n",
       "      <td>4.0</td>\n",
       "      <td>6.283333</td>\n",
       "      <td>0.000000</td>\n",
       "    </tr>\n",
       "    <tr>\n",
       "      <th>4</th>\n",
       "      <td>8/1/2023</td>\n",
       "      <td>1040</td>\n",
       "      <td>05:03:43</td>\n",
       "      <td>8/1/2023-345105</td>\n",
       "      <td>1</td>\n",
       "      <td>1.0</td>\n",
       "      <td>-1.583333</td>\n",
       "      <td>12.866666</td>\n",
       "    </tr>\n",
       "  </tbody>\n",
       "</table>\n",
       "</div>"
      ],
      "text/plain": [
       "       DATE  OPERATOR ACTUAL_ARRIVAL_TIME CORRECTED_TRIP_ID  TRIP_EDGE  \\\n",
       "0  8/1/2023      1040            04:37:38   8/1/2023-345104          1   \n",
       "1  8/1/2023      1040            04:48:27   8/1/2023-345104          0   \n",
       "2  8/1/2023      1040            04:54:56   8/1/2023-345104          0   \n",
       "3  8/1/2023      1040            05:03:43   8/1/2023-345104          2   \n",
       "4  8/1/2023      1040            05:03:43   8/1/2023-345105          1   \n",
       "\n",
       "   TRIP_RANK  ADHERENCE  DWELL_IN_MINS  \n",
       "0        1.0  -2.133333       6.500000  \n",
       "1        2.0  -2.450000       0.000000  \n",
       "2        3.0  -0.933333       0.000000  \n",
       "3        4.0   6.283333       0.000000  \n",
       "4        1.0  -1.583333      12.866666  "
      ]
     },
     "execution_count": 50,
     "metadata": {},
     "output_type": "execute_result"
    }
   ],
   "source": [
    "trip_edge_eda = wego_drop[['DATE','OPERATOR','ACTUAL_ARRIVAL_TIME','CORRECTED_TRIP_ID','TRIP_EDGE','TRIP_RANK','ADHERENCE','DWELL_IN_MINS']]\n",
    "trip_edge_eda.head()"
   ]
  },
  {
   "cell_type": "markdown",
   "metadata": {},
   "source": [
    "#### Create a function that groups all first stop adherence values"
   ]
  },
  {
   "cell_type": "code",
   "execution_count": 51,
   "metadata": {},
   "outputs": [],
   "source": [
    "def find_min_rank_adherence(trip_edge_eda):\n",
    "    # Group by 'Trip ID' and find the row with the minimum 'Rank'\n",
    "    min_rank_adherence_df = trip_edge_eda.loc[trip_edge_eda.groupby('CORRECTED_TRIP_ID')['TRIP_RANK'].idxmin()]\n",
    "    \n",
    "    return min_rank_adherence_df\n",
    "\n",
    "min_rank_adherence = find_min_rank_adherence(trip_edge_eda)"
   ]
  },
  {
   "cell_type": "markdown",
   "metadata": {},
   "source": [
    "#### Create a function that groups all last stop adherence values"
   ]
  },
  {
   "cell_type": "code",
   "execution_count": 52,
   "metadata": {},
   "outputs": [],
   "source": [
    "def find_max_rank_adherence(trip_edge_eda):\n",
    "    # Group by 'Trip ID' and find the row with the minimum 'Rank'\n",
    "    max_rank_adherence_df = trip_edge_eda.loc[trip_edge_eda.groupby('CORRECTED_TRIP_ID')['TRIP_RANK'].idxmax()]\n",
    "    \n",
    "    return max_rank_adherence_df\n",
    "\n",
    "max_rank_adherence = find_max_rank_adherence(trip_edge_eda)"
   ]
  },
  {
   "cell_type": "markdown",
   "metadata": {},
   "source": [
    "#### New dataframe with column for first and last stop adherence"
   ]
  },
  {
   "cell_type": "code",
   "execution_count": 54,
   "metadata": {},
   "outputs": [],
   "source": [
    "min_max_rank_adherence = pd.merge(max_rank_adherence, min_rank_adherence, on=['CORRECTED_TRIP_ID'], how='inner')"
   ]
  },
  {
   "cell_type": "code",
   "execution_count": 55,
   "metadata": {},
   "outputs": [],
   "source": [
    "min_max_rank_adherence.drop(columns=['DATE_y','OPERATOR_y','ACTUAL_ARRIVAL_TIME_y','DWELL_IN_MINS_x','ACTUAL_ARRIVAL_TIME_x'], axis = 1, inplace=True)"
   ]
  },
  {
   "cell_type": "code",
   "execution_count": 56,
   "metadata": {},
   "outputs": [],
   "source": [
    "min_max_rank_adherence = min_max_rank_adherence.rename(columns={'DATE_x': 'DATE', 'OPERATOR_x': 'OPERATOR','TRIP_EDGE_x': 'MIN_TRIP_EDGE','TRIP_RANK_x': 'MIN_TRIP_RANK','ADHERENCE_x':'MIN_ADHERENCE','DWELL_IN_MINS_y':'FIRST_DWELL_MIN','TRIP_EDGE_y':'MAX_TRIP_EDGE','TRIP_RANK_y':'MAX_TRIP_RANK','ADHERENCE_y':'MAX_ADHERENCE'})"
   ]
  },
  {
   "cell_type": "code",
   "execution_count": 75,
   "metadata": {},
   "outputs": [
    {
     "data": {
      "text/html": [
       "<div>\n",
       "<style scoped>\n",
       "    .dataframe tbody tr th:only-of-type {\n",
       "        vertical-align: middle;\n",
       "    }\n",
       "\n",
       "    .dataframe tbody tr th {\n",
       "        vertical-align: top;\n",
       "    }\n",
       "\n",
       "    .dataframe thead th {\n",
       "        text-align: right;\n",
       "    }\n",
       "</style>\n",
       "<table border=\"1\" class=\"dataframe\">\n",
       "  <thead>\n",
       "    <tr style=\"text-align: right;\">\n",
       "      <th></th>\n",
       "      <th>DATE</th>\n",
       "      <th>OPERATOR</th>\n",
       "      <th>CORRECTED_TRIP_ID</th>\n",
       "      <th>MIN_TRIP_EDGE</th>\n",
       "      <th>MIN_TRIP_RANK</th>\n",
       "      <th>MIN_ADHERENCE</th>\n",
       "      <th>MAX_TRIP_EDGE</th>\n",
       "      <th>MAX_TRIP_RANK</th>\n",
       "      <th>MAX_ADHERENCE</th>\n",
       "      <th>FIRST_DWELL_MIN</th>\n",
       "    </tr>\n",
       "  </thead>\n",
       "  <tbody>\n",
       "    <tr>\n",
       "      <th>0</th>\n",
       "      <td>8/1/2023</td>\n",
       "      <td>1040</td>\n",
       "      <td>8/1/2023-345104</td>\n",
       "      <td>2</td>\n",
       "      <td>4.0</td>\n",
       "      <td>6.283333</td>\n",
       "      <td>1</td>\n",
       "      <td>1.0</td>\n",
       "      <td>-2.133333</td>\n",
       "      <td>6.500000</td>\n",
       "    </tr>\n",
       "    <tr>\n",
       "      <th>1</th>\n",
       "      <td>8/1/2023</td>\n",
       "      <td>1040</td>\n",
       "      <td>8/1/2023-345105</td>\n",
       "      <td>2</td>\n",
       "      <td>3.0</td>\n",
       "      <td>1.500000</td>\n",
       "      <td>1</td>\n",
       "      <td>1.0</td>\n",
       "      <td>-1.583333</td>\n",
       "      <td>12.866666</td>\n",
       "    </tr>\n",
       "    <tr>\n",
       "      <th>2</th>\n",
       "      <td>8/1/2023</td>\n",
       "      <td>1040</td>\n",
       "      <td>8/1/2023-345106</td>\n",
       "      <td>2</td>\n",
       "      <td>4.0</td>\n",
       "      <td>4.483333</td>\n",
       "      <td>1</td>\n",
       "      <td>1.0</td>\n",
       "      <td>-1.716666</td>\n",
       "      <td>13.216666</td>\n",
       "    </tr>\n",
       "    <tr>\n",
       "      <th>3</th>\n",
       "      <td>8/1/2023</td>\n",
       "      <td>1040</td>\n",
       "      <td>8/1/2023-345107</td>\n",
       "      <td>2</td>\n",
       "      <td>3.0</td>\n",
       "      <td>4.016666</td>\n",
       "      <td>1</td>\n",
       "      <td>1.0</td>\n",
       "      <td>-1.316666</td>\n",
       "      <td>10.800000</td>\n",
       "    </tr>\n",
       "    <tr>\n",
       "      <th>4</th>\n",
       "      <td>8/1/2023</td>\n",
       "      <td>1040</td>\n",
       "      <td>8/1/2023-345108</td>\n",
       "      <td>2</td>\n",
       "      <td>4.0</td>\n",
       "      <td>4.183333</td>\n",
       "      <td>1</td>\n",
       "      <td>1.0</td>\n",
       "      <td>-1.516666</td>\n",
       "      <td>12.533333</td>\n",
       "    </tr>\n",
       "  </tbody>\n",
       "</table>\n",
       "</div>"
      ],
      "text/plain": [
       "       DATE  OPERATOR CORRECTED_TRIP_ID  MIN_TRIP_EDGE  MIN_TRIP_RANK  \\\n",
       "0  8/1/2023      1040   8/1/2023-345104              2            4.0   \n",
       "1  8/1/2023      1040   8/1/2023-345105              2            3.0   \n",
       "2  8/1/2023      1040   8/1/2023-345106              2            4.0   \n",
       "3  8/1/2023      1040   8/1/2023-345107              2            3.0   \n",
       "4  8/1/2023      1040   8/1/2023-345108              2            4.0   \n",
       "\n",
       "   MIN_ADHERENCE  MAX_TRIP_EDGE  MAX_TRIP_RANK  MAX_ADHERENCE  FIRST_DWELL_MIN  \n",
       "0       6.283333              1            1.0      -2.133333         6.500000  \n",
       "1       1.500000              1            1.0      -1.583333        12.866666  \n",
       "2       4.483333              1            1.0      -1.716666        13.216666  \n",
       "3       4.016666              1            1.0      -1.316666        10.800000  \n",
       "4       4.183333              1            1.0      -1.516666        12.533333  "
      ]
     },
     "execution_count": 75,
     "metadata": {},
     "output_type": "execute_result"
    }
   ],
   "source": [
    "min_max_rank_adherence.head()"
   ]
  },
  {
   "cell_type": "markdown",
   "metadata": {},
   "source": [
    "#### Correlation and Scatterplots"
   ]
  },
  {
   "cell_type": "code",
   "execution_count": 60,
   "metadata": {},
   "outputs": [
    {
     "data": {
      "text/html": [
       "<div>\n",
       "<style scoped>\n",
       "    .dataframe tbody tr th:only-of-type {\n",
       "        vertical-align: middle;\n",
       "    }\n",
       "\n",
       "    .dataframe tbody tr th {\n",
       "        vertical-align: top;\n",
       "    }\n",
       "\n",
       "    .dataframe thead th {\n",
       "        text-align: right;\n",
       "    }\n",
       "</style>\n",
       "<table border=\"1\" class=\"dataframe\">\n",
       "  <thead>\n",
       "    <tr style=\"text-align: right;\">\n",
       "      <th></th>\n",
       "      <th>FIRST_DWELL_MIN</th>\n",
       "      <th>MAX_ADHERENCE</th>\n",
       "    </tr>\n",
       "  </thead>\n",
       "  <tbody>\n",
       "    <tr>\n",
       "      <th>FIRST_DWELL_MIN</th>\n",
       "      <td>1.000000</td>\n",
       "      <td>-0.490291</td>\n",
       "    </tr>\n",
       "    <tr>\n",
       "      <th>MAX_ADHERENCE</th>\n",
       "      <td>-0.490291</td>\n",
       "      <td>1.000000</td>\n",
       "    </tr>\n",
       "  </tbody>\n",
       "</table>\n",
       "</div>"
      ],
      "text/plain": [
       "                 FIRST_DWELL_MIN  MAX_ADHERENCE\n",
       "FIRST_DWELL_MIN         1.000000      -0.490291\n",
       "MAX_ADHERENCE          -0.490291       1.000000"
      ]
     },
     "execution_count": 60,
     "metadata": {},
     "output_type": "execute_result"
    }
   ],
   "source": [
    "min_max_rank_adherence[['FIRST_DWELL_MIN', 'MAX_ADHERENCE']].corr()"
   ]
  },
  {
   "cell_type": "code",
   "execution_count": 61,
   "metadata": {},
   "outputs": [
    {
     "data": {
      "image/png": "[encoded data removed]",
      "text/plain": [
       "<Figure size 864x576 with 1 Axes>"
      ]
     },
     "metadata": {
      "needs_background": "light"
     },
     "output_type": "display_data"
    }
   ],
   "source": [
    "min_max_rank_adherence.plot(kind = 'scatter', x = 'FIRST_DWELL_MIN', y = 'MAX_ADHERENCE', figsize = (12,8))\n",
    "plt.title('First Stop Dwell Time (min) vs. Last Stop Lateness');"
   ]
  },
  {
   "cell_type": "code",
   "execution_count": 62,
   "metadata": {},
   "outputs": [
    {
     "data": {
      "text/html": [
       "<div>\n",
       "<style scoped>\n",
       "    .dataframe tbody tr th:only-of-type {\n",
       "        vertical-align: middle;\n",
       "    }\n",
       "\n",
       "    .dataframe tbody tr th {\n",
       "        vertical-align: top;\n",
       "    }\n",
       "\n",
       "    .dataframe thead th {\n",
       "        text-align: right;\n",
       "    }\n",
       "</style>\n",
       "<table border=\"1\" class=\"dataframe\">\n",
       "  <thead>\n",
       "    <tr style=\"text-align: right;\">\n",
       "      <th></th>\n",
       "      <th>MIN_ADHERENCE</th>\n",
       "      <th>MAX_ADHERENCE</th>\n",
       "    </tr>\n",
       "  </thead>\n",
       "  <tbody>\n",
       "    <tr>\n",
       "      <th>MIN_ADHERENCE</th>\n",
       "      <td>1.000000</td>\n",
       "      <td>0.729451</td>\n",
       "    </tr>\n",
       "    <tr>\n",
       "      <th>MAX_ADHERENCE</th>\n",
       "      <td>0.729451</td>\n",
       "      <td>1.000000</td>\n",
       "    </tr>\n",
       "  </tbody>\n",
       "</table>\n",
       "</div>"
      ],
      "text/plain": [
       "               MIN_ADHERENCE  MAX_ADHERENCE\n",
       "MIN_ADHERENCE       1.000000       0.729451\n",
       "MAX_ADHERENCE       0.729451       1.000000"
      ]
     },
     "execution_count": 62,
     "metadata": {},
     "output_type": "execute_result"
    }
   ],
   "source": [
    "min_max_rank_adherence[['MIN_ADHERENCE', 'MAX_ADHERENCE']].corr()"
   ]
  },
  {
   "cell_type": "code",
   "execution_count": 63,
   "metadata": {},
   "outputs": [
    {
     "data": {
      "image/png": "[encoded data removed]",
      "text/plain": [
       "<Figure size 864x576 with 1 Axes>"
      ]
     },
     "metadata": {
      "needs_background": "light"
     },
     "output_type": "display_data"
    }
   ],
   "source": [
    "min_max_rank_adherence.plot(kind = 'scatter', x = 'MIN_ADHERENCE', y = 'MAX_ADHERENCE', figsize = (12,8))\n",
    "plt.title('First Stop Lateness vs. Last Stop Lateness');"
   ]
  },
  {
   "cell_type": "markdown",
   "metadata": {},
   "source": [
    "#### Linear Regression"
   ]
  },
  {
   "cell_type": "code",
   "execution_count": 70,
   "metadata": {},
   "outputs": [
    {
     "data": {
      "text/html": [
       "<table class=\"simpletable\">\n",
       "<caption>OLS Regression Results</caption>\n",
       "<tr>\n",
       "  <th>Dep. Variable:</th>     <td>FIRST_DWELL_MIN</td> <th>  R-squared:         </th>  <td>   0.240</td>  \n",
       "</tr>\n",
       "<tr>\n",
       "  <th>Model:</th>                   <td>OLS</td>       <th>  Adj. R-squared:    </th>  <td>   0.240</td>  \n",
       "</tr>\n",
       "<tr>\n",
       "  <th>Method:</th>             <td>Least Squares</td>  <th>  F-statistic:       </th>  <td>2.090e+04</td> \n",
       "</tr>\n",
       "<tr>\n",
       "  <th>Date:</th>             <td>Thu, 02 Nov 2023</td> <th>  Prob (F-statistic):</th>   <td>  0.00</td>   \n",
       "</tr>\n",
       "<tr>\n",
       "  <th>Time:</th>                 <td>15:47:24</td>     <th>  Log-Likelihood:    </th> <td>-2.4551e+05</td>\n",
       "</tr>\n",
       "<tr>\n",
       "  <th>No. Observations:</th>      <td> 66055</td>      <th>  AIC:               </th>  <td>4.910e+05</td> \n",
       "</tr>\n",
       "<tr>\n",
       "  <th>Df Residuals:</th>          <td> 66053</td>      <th>  BIC:               </th>  <td>4.910e+05</td> \n",
       "</tr>\n",
       "<tr>\n",
       "  <th>Df Model:</th>              <td>     1</td>      <th>                     </th>      <td> </td>     \n",
       "</tr>\n",
       "<tr>\n",
       "  <th>Covariance Type:</th>      <td>nonrobust</td>    <th>                     </th>      <td> </td>     \n",
       "</tr>\n",
       "</table>\n",
       "<table class=\"simpletable\">\n",
       "<tr>\n",
       "        <td></td>           <th>coef</th>     <th>std err</th>      <th>t</th>      <th>P>|t|</th>  <th>[0.025</th>    <th>0.975]</th>  \n",
       "</tr>\n",
       "<tr>\n",
       "  <th>Intercept</th>     <td>   11.6720</td> <td>    0.041</td> <td>  286.099</td> <td> 0.000</td> <td>   11.592</td> <td>   11.752</td>\n",
       "</tr>\n",
       "<tr>\n",
       "  <th>MAX_ADHERENCE</th> <td>   -0.6689</td> <td>    0.005</td> <td> -144.579</td> <td> 0.000</td> <td>   -0.678</td> <td>   -0.660</td>\n",
       "</tr>\n",
       "</table>\n",
       "<table class=\"simpletable\">\n",
       "<tr>\n",
       "  <th>Omnibus:</th>       <td>37998.272</td> <th>  Durbin-Watson:     </th>  <td>   1.876</td>  \n",
       "</tr>\n",
       "<tr>\n",
       "  <th>Prob(Omnibus):</th>  <td> 0.000</td>   <th>  Jarque-Bera (JB):  </th> <td>6042885.512</td>\n",
       "</tr>\n",
       "<tr>\n",
       "  <th>Skew:</th>           <td> 1.742</td>   <th>  Prob(JB):          </th>  <td>    0.00</td>  \n",
       "</tr>\n",
       "<tr>\n",
       "  <th>Kurtosis:</th>       <td>49.727</td>   <th>  Cond. No.          </th>  <td>    9.30</td>  \n",
       "</tr>\n",
       "</table><br/><br/>Notes:<br/>[1] Standard Errors assume that the covariance matrix of the errors is correctly specified."
      ],
      "text/latex": [
       "\\begin{center}\n",
       "\\begin{tabular}{lclc}\n",
       "\\toprule\n",
       "\\textbf{Dep. Variable:}    & FIRST\\_DWELL\\_MIN & \\textbf{  R-squared:         } &      0.240   \\\\\n",
       "\\textbf{Model:}            &        OLS        & \\textbf{  Adj. R-squared:    } &      0.240   \\\\\n",
       "\\textbf{Method:}           &   Least Squares   & \\textbf{  F-statistic:       } &  2.090e+04   \\\\\n",
       "\\textbf{Date:}             &  Thu, 02 Nov 2023 & \\textbf{  Prob (F-statistic):} &      0.00    \\\\\n",
       "\\textbf{Time:}             &      15:47:24     & \\textbf{  Log-Likelihood:    } & -2.4551e+05  \\\\\n",
       "\\textbf{No. Observations:} &        66055      & \\textbf{  AIC:               } &  4.910e+05   \\\\\n",
       "\\textbf{Df Residuals:}     &        66053      & \\textbf{  BIC:               } &  4.910e+05   \\\\\n",
       "\\textbf{Df Model:}         &            1      & \\textbf{                     } &              \\\\\n",
       "\\textbf{Covariance Type:}  &     nonrobust     & \\textbf{                     } &              \\\\\n",
       "\\bottomrule\n",
       "\\end{tabular}\n",
       "\\begin{tabular}{lcccccc}\n",
       "                        & \\textbf{coef} & \\textbf{std err} & \\textbf{t} & \\textbf{P$> |$t$|$} & \\textbf{[0.025} & \\textbf{0.975]}  \\\\\n",
       "\\midrule\n",
       "\\textbf{Intercept}      &      11.6720  &        0.041     &   286.099  &         0.000        &       11.592    &       11.752     \\\\\n",
       "\\textbf{MAX\\_ADHERENCE} &      -0.6689  &        0.005     &  -144.579  &         0.000        &       -0.678    &       -0.660     \\\\\n",
       "\\bottomrule\n",
       "\\end{tabular}\n",
       "\\begin{tabular}{lclc}\n",
       "\\textbf{Omnibus:}       & 37998.272 & \\textbf{  Durbin-Watson:     } &      1.876   \\\\\n",
       "\\textbf{Prob(Omnibus):} &    0.000  & \\textbf{  Jarque-Bera (JB):  } & 6042885.512  \\\\\n",
       "\\textbf{Skew:}          &    1.742  & \\textbf{  Prob(JB):          } &       0.00   \\\\\n",
       "\\textbf{Kurtosis:}      &   49.727  & \\textbf{  Cond. No.          } &       9.30   \\\\\n",
       "\\bottomrule\n",
       "\\end{tabular}\n",
       "%\\caption{OLS Regression Results}\n",
       "\\end{center}\n",
       "\n",
       "Notes: \\newline\n",
       " [1] Standard Errors assume that the covariance matrix of the errors is correctly specified."
      ],
      "text/plain": [
       "<class 'statsmodels.iolib.summary.Summary'>\n",
       "\"\"\"\n",
       "                            OLS Regression Results                            \n",
       "==============================================================================\n",
       "Dep. Variable:        FIRST_DWELL_MIN   R-squared:                       0.240\n",
       "Model:                            OLS   Adj. R-squared:                  0.240\n",
       "Method:                 Least Squares   F-statistic:                 2.090e+04\n",
       "Date:                Thu, 02 Nov 2023   Prob (F-statistic):               0.00\n",
       "Time:                        15:47:24   Log-Likelihood:            -2.4551e+05\n",
       "No. Observations:               66055   AIC:                         4.910e+05\n",
       "Df Residuals:                   66053   BIC:                         4.910e+05\n",
       "Df Model:                           1                                         \n",
       "Covariance Type:            nonrobust                                         \n",
       "=================================================================================\n",
       "                    coef    std err          t      P>|t|      [0.025      0.975]\n",
       "---------------------------------------------------------------------------------\n",
       "Intercept        11.6720      0.041    286.099      0.000      11.592      11.752\n",
       "MAX_ADHERENCE    -0.6689      0.005   -144.579      0.000      -0.678      -0.660\n",
       "==============================================================================\n",
       "Omnibus:                    37998.272   Durbin-Watson:                   1.876\n",
       "Prob(Omnibus):                  0.000   Jarque-Bera (JB):          6042885.512\n",
       "Skew:                           1.742   Prob(JB):                         0.00\n",
       "Kurtosis:                      49.727   Cond. No.                         9.30\n",
       "==============================================================================\n",
       "\n",
       "Notes:\n",
       "[1] Standard Errors assume that the covariance matrix of the errors is correctly specified.\n",
       "\"\"\""
      ]
     },
     "execution_count": 70,
     "metadata": {},
     "output_type": "execute_result"
    }
   ],
   "source": [
    "lm = smf.ols('FIRST_DWELL_MIN ~ MAX_ADHERENCE', data = min_max_rank_adherence).fit()\n",
    "lm.summary()"
   ]
  },
  {
   "cell_type": "code",
   "execution_count": 71,
   "metadata": {},
   "outputs": [
    {
     "data": {
      "text/html": [
       "<table class=\"simpletable\">\n",
       "<caption>OLS Regression Results</caption>\n",
       "<tr>\n",
       "  <th>Dep. Variable:</th>      <td>MIN_ADHERENCE</td>  <th>  R-squared:         </th>  <td>   0.532</td>  \n",
       "</tr>\n",
       "<tr>\n",
       "  <th>Model:</th>                   <td>OLS</td>       <th>  Adj. R-squared:    </th>  <td>   0.532</td>  \n",
       "</tr>\n",
       "<tr>\n",
       "  <th>Method:</th>             <td>Least Squares</td>  <th>  F-statistic:       </th>  <td>7.512e+04</td> \n",
       "</tr>\n",
       "<tr>\n",
       "  <th>Date:</th>             <td>Thu, 02 Nov 2023</td> <th>  Prob (F-statistic):</th>   <td>  0.00</td>   \n",
       "</tr>\n",
       "<tr>\n",
       "  <th>Time:</th>                 <td>15:48:05</td>     <th>  Log-Likelihood:    </th> <td>-2.2815e+05</td>\n",
       "</tr>\n",
       "<tr>\n",
       "  <th>No. Observations:</th>      <td> 66055</td>      <th>  AIC:               </th>  <td>4.563e+05</td> \n",
       "</tr>\n",
       "<tr>\n",
       "  <th>Df Residuals:</th>          <td> 66053</td>      <th>  BIC:               </th>  <td>4.563e+05</td> \n",
       "</tr>\n",
       "<tr>\n",
       "  <th>Df Model:</th>              <td>     1</td>      <th>                     </th>      <td> </td>     \n",
       "</tr>\n",
       "<tr>\n",
       "  <th>Covariance Type:</th>      <td>nonrobust</td>    <th>                     </th>      <td> </td>     \n",
       "</tr>\n",
       "</table>\n",
       "<table class=\"simpletable\">\n",
       "<tr>\n",
       "        <td></td>           <th>coef</th>     <th>std err</th>      <th>t</th>      <th>P>|t|</th>  <th>[0.025</th>    <th>0.975]</th>  \n",
       "</tr>\n",
       "<tr>\n",
       "  <th>Intercept</th>     <td>    0.5147</td> <td>    0.031</td> <td>   16.410</td> <td> 0.000</td> <td>    0.453</td> <td>    0.576</td>\n",
       "</tr>\n",
       "<tr>\n",
       "  <th>MAX_ADHERENCE</th> <td>    0.9749</td> <td>    0.004</td> <td>  274.073</td> <td> 0.000</td> <td>    0.968</td> <td>    0.982</td>\n",
       "</tr>\n",
       "</table>\n",
       "<table class=\"simpletable\">\n",
       "<tr>\n",
       "  <th>Omnibus:</th>       <td>149434.548</td> <th>  Durbin-Watson:     </th>    <td>   1.735</td>   \n",
       "</tr>\n",
       "<tr>\n",
       "  <th>Prob(Omnibus):</th>   <td> 0.000</td>   <th>  Jarque-Bera (JB):  </th> <td>3581471180.315</td>\n",
       "</tr>\n",
       "<tr>\n",
       "  <th>Skew:</th>            <td>-21.039</td>  <th>  Prob(JB):          </th>    <td>    0.00</td>   \n",
       "</tr>\n",
       "<tr>\n",
       "  <th>Kurtosis:</th>       <td>1142.955</td>  <th>  Cond. No.          </th>    <td>    9.30</td>   \n",
       "</tr>\n",
       "</table><br/><br/>Notes:<br/>[1] Standard Errors assume that the covariance matrix of the errors is correctly specified."
      ],
      "text/latex": [
       "\\begin{center}\n",
       "\\begin{tabular}{lclc}\n",
       "\\toprule\n",
       "\\textbf{Dep. Variable:}    &  MIN\\_ADHERENCE  & \\textbf{  R-squared:         } &       0.532     \\\\\n",
       "\\textbf{Model:}            &       OLS        & \\textbf{  Adj. R-squared:    } &       0.532     \\\\\n",
       "\\textbf{Method:}           &  Least Squares   & \\textbf{  F-statistic:       } &   7.512e+04     \\\\\n",
       "\\textbf{Date:}             & Thu, 02 Nov 2023 & \\textbf{  Prob (F-statistic):} &       0.00      \\\\\n",
       "\\textbf{Time:}             &     15:48:05     & \\textbf{  Log-Likelihood:    } &  -2.2815e+05    \\\\\n",
       "\\textbf{No. Observations:} &       66055      & \\textbf{  AIC:               } &   4.563e+05     \\\\\n",
       "\\textbf{Df Residuals:}     &       66053      & \\textbf{  BIC:               } &   4.563e+05     \\\\\n",
       "\\textbf{Df Model:}         &           1      & \\textbf{                     } &                 \\\\\n",
       "\\textbf{Covariance Type:}  &    nonrobust     & \\textbf{                     } &                 \\\\\n",
       "\\bottomrule\n",
       "\\end{tabular}\n",
       "\\begin{tabular}{lcccccc}\n",
       "                        & \\textbf{coef} & \\textbf{std err} & \\textbf{t} & \\textbf{P$> |$t$|$} & \\textbf{[0.025} & \\textbf{0.975]}  \\\\\n",
       "\\midrule\n",
       "\\textbf{Intercept}      &       0.5147  &        0.031     &    16.410  &         0.000        &        0.453    &        0.576     \\\\\n",
       "\\textbf{MAX\\_ADHERENCE} &       0.9749  &        0.004     &   274.073  &         0.000        &        0.968    &        0.982     \\\\\n",
       "\\bottomrule\n",
       "\\end{tabular}\n",
       "\\begin{tabular}{lclc}\n",
       "\\textbf{Omnibus:}       & 149434.548 & \\textbf{  Durbin-Watson:     } &       1.735     \\\\\n",
       "\\textbf{Prob(Omnibus):} &    0.000   & \\textbf{  Jarque-Bera (JB):  } & 3581471180.315  \\\\\n",
       "\\textbf{Skew:}          &  -21.039   & \\textbf{  Prob(JB):          } &        0.00     \\\\\n",
       "\\textbf{Kurtosis:}      &  1142.955  & \\textbf{  Cond. No.          } &        9.30     \\\\\n",
       "\\bottomrule\n",
       "\\end{tabular}\n",
       "%\\caption{OLS Regression Results}\n",
       "\\end{center}\n",
       "\n",
       "Notes: \\newline\n",
       " [1] Standard Errors assume that the covariance matrix of the errors is correctly specified."
      ],
      "text/plain": [
       "<class 'statsmodels.iolib.summary.Summary'>\n",
       "\"\"\"\n",
       "                            OLS Regression Results                            \n",
       "==============================================================================\n",
       "Dep. Variable:          MIN_ADHERENCE   R-squared:                       0.532\n",
       "Model:                            OLS   Adj. R-squared:                  0.532\n",
       "Method:                 Least Squares   F-statistic:                 7.512e+04\n",
       "Date:                Thu, 02 Nov 2023   Prob (F-statistic):               0.00\n",
       "Time:                        15:48:05   Log-Likelihood:            -2.2815e+05\n",
       "No. Observations:               66055   AIC:                         4.563e+05\n",
       "Df Residuals:                   66053   BIC:                         4.563e+05\n",
       "Df Model:                           1                                         \n",
       "Covariance Type:            nonrobust                                         \n",
       "=================================================================================\n",
       "                    coef    std err          t      P>|t|      [0.025      0.975]\n",
       "---------------------------------------------------------------------------------\n",
       "Intercept         0.5147      0.031     16.410      0.000       0.453       0.576\n",
       "MAX_ADHERENCE     0.9749      0.004    274.073      0.000       0.968       0.982\n",
       "==============================================================================\n",
       "Omnibus:                   149434.548   Durbin-Watson:                   1.735\n",
       "Prob(Omnibus):                  0.000   Jarque-Bera (JB):       3581471180.315\n",
       "Skew:                         -21.039   Prob(JB):                         0.00\n",
       "Kurtosis:                    1142.955   Cond. No.                         9.30\n",
       "==============================================================================\n",
       "\n",
       "Notes:\n",
       "[1] Standard Errors assume that the covariance matrix of the errors is correctly specified.\n",
       "\"\"\""
      ]
     },
     "execution_count": 71,
     "metadata": {},
     "output_type": "execute_result"
    }
   ],
   "source": [
    "lm = smf.ols('MIN_ADHERENCE ~ MAX_ADHERENCE', data = min_max_rank_adherence).fit()\n",
    "lm.summary()"
   ]
  },
  {
   "cell_type": "code",
   "execution_count": 74,
   "metadata": {},
   "outputs": [
    {
     "data": {
      "image/png": "[encoded data removed]",
      "text/plain": [
       "<Figure size 432x288 with 1 Axes>"
      ]
     },
     "metadata": {
      "needs_background": "light"
     },
     "output_type": "display_data"
    }
   ],
   "source": [
    "ax = min_max_rank_adherence.plot(x = 'MAX_ADHERENCE', y = 'MIN_ADHERENCE', kind = 'scatter')\n",
    "\n",
    "fit_df = pd.DataFrame({\n",
    "    'MAX_ADHERENCE': np.linspace(\n",
    "        start = min_max_rank_adherence['MAX_ADHERENCE'].min(),\n",
    "        stop = min_max_rank_adherence['MAX_ADHERENCE'].max(), \n",
    "        num = 150)})\n",
    "fit_df['fitted'] = lm.predict(fit_df)\n",
    "\n",
    "fit_df.plot(x = 'MAX_ADHERENCE', y = 'fitted', ax = ax, color = 'black', label = 'fitted');"
   ]
  },
  {
   "cell_type": "code",
   "execution_count": null,
   "metadata": {},
   "outputs": [],
   "source": []
  }
 ],
 "metadata": {
  "kernelspec": {
   "display_name": "Python 3",
   "language": "python",
   "name": "python3"
  },
  "language_info": {
   "codemirror_mode": {
    "name": "ipython",
    "version": 3
   },
   "file_extension": ".py",
   "mimetype": "text/x-python",
   "name": "python",
   "nbconvert_exporter": "python",
   "pygments_lexer": "ipython3",
   "version": "3.8.5"
  }
 },
 "nbformat": 4,
 "nbformat_minor": 4
}
